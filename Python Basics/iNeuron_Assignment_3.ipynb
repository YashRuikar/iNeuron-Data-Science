{
 "cells": [
  {
   "cell_type": "markdown",
   "id": "7cd23f76",
   "metadata": {},
   "source": [
    "# Assignment 3"
   ]
  },
  {
   "cell_type": "markdown",
   "id": "b0404454",
   "metadata": {},
   "source": [
    "# 1.Why are functions advantageous to have in your programs?\n",
    "\n",
    "Ans - Funtions are advantageous because once we define a function we can call it multiple times wherever needed"
   ]
  },
  {
   "cell_type": "markdown",
   "id": "8b1fd8c3",
   "metadata": {},
   "source": [
    "# 2.When does the code in a function run: when it's specified or when it's called?\n",
    "\n",
    "Ans. The code in a function executes when the function is called, not when the function is specified"
   ]
  },
  {
   "cell_type": "markdown",
   "id": "b0a83858",
   "metadata": {},
   "source": [
    "# 3.What statement creates a function?\n",
    "\n",
    "Ans. The def statement defines a function."
   ]
  },
  {
   "cell_type": "markdown",
   "id": "e8388a6d",
   "metadata": {},
   "source": [
    "# 4.What is the difference between a function and a function call?\n",
    "\n",
    "Ans. A function is procedure to achieve a particular result. while function call is using this function to achive that task. Using a function to do a particular task any point in program is called as function call."
   ]
  },
  {
   "cell_type": "markdown",
   "id": "dc4076b4",
   "metadata": {},
   "source": [
    "# 5.How many global scopes are there in a Python program? How many local scopes?\n",
    "\n",
    "Ans. There is one global scope, and a local scope is created whenever a function is called"
   ]
  },
  {
   "cell_type": "markdown",
   "id": "f731241a",
   "metadata": {},
   "source": [
    "# 6.What happens to variables in a local scope when the function call returns?\n",
    "\n",
    "Ans. When the function call returns all the local scope are destroyed and removed from the memory"
   ]
  },
  {
   "cell_type": "markdown",
   "id": "0eee5c0e",
   "metadata": {},
   "source": [
    "# 7.What is the concept of a return value? Is it possible to have a return value in an expression?\n",
    "\n",
    "Ans. The value that a function return on a funtion call is called the return value.Like any value, a return value can be used as part of an expression."
   ]
  },
  {
   "cell_type": "markdown",
   "id": "5a7839ac",
   "metadata": {},
   "source": [
    "# 8.If a function does not have a return statement, what is the return value of a call to that function?\n",
    "\n",
    "Ans. If there is no return statement for a function, its return value is None"
   ]
  },
  {
   "cell_type": "markdown",
   "id": "9e18966c",
   "metadata": {},
   "source": [
    "# 9.How do you make a function variable refer to the global variable?\n",
    "\n",
    "Ans. A global statement will force a variable in a function to refer to the global variable. If you want to refer to a global variable in a function, you can use the global keyword to declare which variables are global."
   ]
  },
  {
   "cell_type": "markdown",
   "id": "32801d56",
   "metadata": {},
   "source": [
    "# 10. What is the data type of None?\n",
    "\n",
    "Ans. NoneType"
   ]
  },
  {
   "cell_type": "markdown",
   "id": "b7e0848c",
   "metadata": {},
   "source": [
    "# 11. What does the sentence import areallyourpetsnamederic do?\n",
    "\n",
    "Ans. The import statement imports a module named areallyourpetsnamederic"
   ]
  },
  {
   "cell_type": "markdown",
   "id": "f04606d0",
   "metadata": {},
   "source": [
    "# 12. If you had a bacon() feature in a spam module, what would you call it after importing spam?\n",
    "\n",
    "Ans. We can cal the bacon() feature as spam.bacon() ."
   ]
  },
  {
   "cell_type": "markdown",
   "id": "e3bb014b",
   "metadata": {},
   "source": [
    "# 13. What can you do to save a programme from crashing if it encounters an error?\n",
    "\n",
    "Ans. We can use try clause to catch the error & block clause to handle the error"
   ]
  },
  {
   "cell_type": "markdown",
   "id": "bfa675ff",
   "metadata": {},
   "source": [
    "# 14. What is the purpose of the try clause? What is the purpose of the except clause?\n",
    "\n",
    "Ans. The code that could potentially cause an error goes in the try clause. The code that executes if an error happens goes in the except clause"
   ]
  },
  {
   "cell_type": "code",
   "execution_count": null,
   "id": "d075b528",
   "metadata": {},
   "outputs": [],
   "source": []
  }
 ],
 "metadata": {
  "kernelspec": {
   "display_name": "Python 3 (ipykernel)",
   "language": "python",
   "name": "python3"
  },
  "language_info": {
   "codemirror_mode": {
    "name": "ipython",
    "version": 3
   },
   "file_extension": ".py",
   "mimetype": "text/x-python",
   "name": "python",
   "nbconvert_exporter": "python",
   "pygments_lexer": "ipython3",
   "version": "3.9.12"
  }
 },
 "nbformat": 4,
 "nbformat_minor": 5
}
