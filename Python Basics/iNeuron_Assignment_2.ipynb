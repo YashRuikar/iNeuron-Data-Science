{
 "cells": [
  {
   "cell_type": "markdown",
   "id": "6c789c76",
   "metadata": {},
   "source": [
    "# 1. What are the two values of the Boolean data type? How do you write them?\n",
    "\n",
    "Ans= A variable of the primitive data tpe boolean can have two values: true and false (Boolean literals). we can write them as\n",
    "\n",
    "1.boolean a = true\n",
    "\n",
    "2.boolean b = false"
   ]
  },
  {
   "cell_type": "markdown",
   "id": "ba86a71f",
   "metadata": {},
   "source": [
    "# 2. What are the three different types of Boolean operators?\n",
    "\n",
    "Ans-\n",
    "\n",
    "1. AND\n",
    "2. OR\n",
    "3. NOT"
   ]
  },
  {
   "cell_type": "markdown",
   "id": "1d30d66b",
   "metadata": {},
   "source": [
    "# 3. Make a list of each Boolean operators truth tables (i.e. every possible combination of Boolean values for the operator and what it evaluate)\n",
    "\n",
    "Ans-\n",
    "\n",
    "   AND TABLE                  \n",
    "  \n",
    "  A     B     Q\n",
    "  \n",
    "  0     0     0\n",
    "  \n",
    "  0     1     0\n",
    "  \n",
    "  1     0     0\n",
    "  \n",
    "  1     1     1\n",
    "  \n",
    "  \n",
    "  \n",
    "  OR TABLE\n",
    "  \n",
    "  A     B     Q\n",
    "  \n",
    "  0     0     1\n",
    "  \n",
    "  0     1     1\n",
    "  \n",
    "  1     0     1\n",
    "  \n",
    "  1     1     1\n",
    "  \n",
    "  \n",
    "  NOT TABLE\n",
    "  \n",
    "  A     Q\n",
    "  \n",
    "  0     1\n",
    "  \n",
    "  1     0"
   ]
  },
  {
   "cell_type": "markdown",
   "id": "4ab83cac",
   "metadata": {},
   "source": [
    "# 4. What are the values of the following expressions?\n",
    "\n",
    "a) (5 > 4) and (3 == 5)\n",
    "\n",
    "b) not (5 > 4)\n",
    "\n",
    "c) (5 > 4) or (3 == 5)\n",
    "\n",
    "d) not((5 > 4) or (3 == 5))\n",
    "\n",
    "e) (True and True) and (True == False)\n",
    "\n",
    "f) (not False) or (not True)"
   ]
  },
  {
   "cell_type": "code",
   "execution_count": 4,
   "id": "8c8f3f58",
   "metadata": {},
   "outputs": [
    {
     "name": "stdout",
     "output_type": "stream",
     "text": [
      "False\n",
      "False\n",
      "True\n",
      "True\n",
      "False\n",
      "True\n"
     ]
    }
   ],
   "source": [
    "print((5 > 4) and (3 == 5))\n",
    "print(not (5 > 4))\n",
    "print((5 > 4) or (3 == 5))\n",
    "print(((5 > 4) or (3 == 5)))\n",
    "print((True and True) and (True == False))\n",
    "print((not False) or (not True))"
   ]
  },
  {
   "cell_type": "markdown",
   "id": "e5b4a2a8",
   "metadata": {},
   "source": [
    "# 5. What are the six comparison operators?\n",
    "\n",
    "Ans- Python have 6 comparison operators. The follwing are\n",
    "\n",
    "less than (<),\n",
    "\n",
    "less than or equal to (<=),\n",
    "\n",
    "greater than (>),\n",
    "\n",
    "greater than or equal to (>=),\n",
    "\n",
    "equal to (==),\n",
    "\n",
    "not equal to (!=)"
   ]
  },
  {
   "cell_type": "markdown",
   "id": "55c1fcde",
   "metadata": {},
   "source": [
    "# 6. How do you tell the difference between the equal to and assignment operators? Describe a condtion and when you would use one.\n",
    "\n",
    "Ans- \n",
    "\n",
    "1. The \"=\" is an assignment opertor is used to assign the value on the right to the variable on the left.\n",
    "\n",
    "2. The \"==\" operator checks whether the two given operands are equal or not , if so it returns true , otherwise it returns false."
   ]
  },
  {
   "cell_type": "markdown",
   "id": "8b4dd1ad",
   "metadata": {},
   "source": [
    "# 7. Identify the three block in the code."
   ]
  },
  {
   "cell_type": "code",
   "execution_count": 5,
   "id": "032907ab",
   "metadata": {},
   "outputs": [
    {
     "name": "stdout",
     "output_type": "stream",
     "text": [
      "spam\n"
     ]
    }
   ],
   "source": [
    "spam = 0\n",
    "if spam == 10:\n",
    "    print('eggs')       # Block 1\n",
    "    if spam > 5:\n",
    "        print('bacon')  # Block 2\n",
    "    else:\n",
    "        print('ham')    # block 3\n",
    "    print('spam') \n",
    "print('spam')    "
   ]
  },
  {
   "cell_type": "markdown",
   "id": "bb4b2381",
   "metadata": {},
   "source": [
    "# 8. Write code that prints Hello if 1 is stored in spam, prints Howdy if 2 is stored in spam and prints Greetings! if anything else is stored in spam."
   ]
  },
  {
   "cell_type": "code",
   "execution_count": 6,
   "id": "632fe27a",
   "metadata": {},
   "outputs": [
    {
     "name": "stdout",
     "output_type": "stream",
     "text": [
      "Greetings!\n"
     ]
    }
   ],
   "source": [
    "if spam == 1:\n",
    "    print('Hello')\n",
    "if spam == 2:\n",
    "    print('Howdy')\n",
    "else:\n",
    "    print('Greetings!')"
   ]
  },
  {
   "cell_type": "markdown",
   "id": "6dc692f6",
   "metadata": {},
   "source": [
    "# 9.If your programme is stuck in an endless loop, what keys you’ll press?\n",
    "\n",
    "Ans- Ctrl + C"
   ]
  },
  {
   "cell_type": "markdown",
   "id": "0493049d",
   "metadata": {},
   "source": [
    "# 10. How can you tell the difference between break and continue?\n",
    "\n",
    "Ans- The main difference between both the statements is that when \"break\" keyword comes, it terminates the execution of the current loop and passes the control over the next loop or main body, whereas when \"continue\" keyword is encountered, it skips the current iteration and executes the very next iteration in the loop."
   ]
  },
  {
   "cell_type": "markdown",
   "id": "b27313d9",
   "metadata": {},
   "source": [
    "# 11. In a for loop, what is the difference between range(10), range(0, 10), and range(0, 10, 1)?\n",
    "\n",
    "Ans:-\n",
    "\n",
    "1. range(10) = It will generate a sequence of integers starting from 0 to stop -1\n",
    "\n",
    "2. range(0,10) = It will generate integers starting from the start number to stop -1.\n",
    "\n",
    "3. range(0,10,1) = It will return a sequence of numbers, starting from the start number, increments by step number, and stops before a stop number."
   ]
  },
  {
   "cell_type": "markdown",
   "id": "133dc4ec",
   "metadata": {},
   "source": [
    "# 12. Write a short program that prints the numbers 1 to 10 using a for loop. Then write an equivalent program that prints the numbers 1 to 10 using a while loop."
   ]
  },
  {
   "cell_type": "code",
   "execution_count": 7,
   "id": "5055b6f4",
   "metadata": {},
   "outputs": [
    {
     "name": "stdout",
     "output_type": "stream",
     "text": [
      "1\n",
      "2\n",
      "3\n",
      "4\n",
      "5\n",
      "6\n",
      "7\n",
      "8\n",
      "9\n"
     ]
    }
   ],
   "source": [
    "for i in range(1,10):\n",
    "    print(i)"
   ]
  },
  {
   "cell_type": "code",
   "execution_count": 8,
   "id": "e24a94d7",
   "metadata": {},
   "outputs": [
    {
     "name": "stdout",
     "output_type": "stream",
     "text": [
      "1\n",
      "2\n",
      "3\n",
      "4\n",
      "5\n",
      "6\n",
      "7\n",
      "8\n",
      "9\n"
     ]
    }
   ],
   "source": [
    "count = 1\n",
    "while count < 10:\n",
    "    print(count)\n",
    "    count = count + 1"
   ]
  },
  {
   "cell_type": "markdown",
   "id": "07745011",
   "metadata": {},
   "source": [
    "# 13. If you had a function named bacon() inside a module named spam, how would you call it after importing spam?\n",
    "\n",
    "Ans- \n",
    "\n",
    "This functiom can be called with\n",
    "\n",
    "        spam.bacon()"
   ]
  },
  {
   "cell_type": "code",
   "execution_count": null,
   "id": "1ce0aeeb",
   "metadata": {},
   "outputs": [],
   "source": []
  }
 ],
 "metadata": {
  "kernelspec": {
   "display_name": "Python 3 (ipykernel)",
   "language": "python",
   "name": "python3"
  },
  "language_info": {
   "codemirror_mode": {
    "name": "ipython",
    "version": 3
   },
   "file_extension": ".py",
   "mimetype": "text/x-python",
   "name": "python",
   "nbconvert_exporter": "python",
   "pygments_lexer": "ipython3",
   "version": "3.9.12"
  }
 },
 "nbformat": 4,
 "nbformat_minor": 5
}
