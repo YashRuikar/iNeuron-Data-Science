{
 "cells": [
  {
   "cell_type": "markdown",
   "id": "faa8dced",
   "metadata": {},
   "source": [
    "# Assignment 6"
   ]
  },
  {
   "cell_type": "markdown",
   "id": "ecba6e69",
   "metadata": {},
   "source": [
    "**1. What are escape characters, and how do you use them?**\n",
    "\n",
    "Ans. An escape character is a backslash \\ followed by the character you want to insert. We use them to insert characters that are illegal in a string."
   ]
  },
  {
   "cell_type": "markdown",
   "id": "73393ec7",
   "metadata": {},
   "source": [
    "**2. What do the escape characters \\n and \\t stand for?**\n",
    "\n",
    "Ans \\n - New Line & \\t - Tab"
   ]
  },
  {
   "cell_type": "markdown",
   "id": "b7a78f66",
   "metadata": {},
   "source": [
    "**3.What is the way to include backlash characters in a string?**\n",
    "\n",
    "Ans - To include a backlash characters in a string you have write double blacklash i.e \\"
   ]
  },
  {
   "cell_type": "code",
   "execution_count": 1,
   "id": "a7adf297",
   "metadata": {},
   "outputs": [
    {
     "name": "stdout",
     "output_type": "stream",
     "text": [
      "Task's\n"
     ]
    }
   ],
   "source": [
    "s = \"Task\\'s\"\n",
    "print(s)"
   ]
  },
  {
   "cell_type": "markdown",
   "id": "24ceffff",
   "metadata": {},
   "source": [
    "**4. The string \"Howl's Moving Castle\" is a correct value. Why isn't the single quote character in the word Howl's not escaped a problem?**\n",
    "\n",
    "Ans. We can repressent a string within the single quote character or within the double quote character. Since we have enclosed the \"Howl's Moving Castle\" in double quote. hence the signle quote character is not a problem"
   ]
  },
  {
   "cell_type": "markdown",
   "id": "88d96949",
   "metadata": {},
   "source": [
    "**5. How do you write a string of newlines if you don't want to use the n character?**\n",
    "\n",
    "Ans. We can write end=\"\" in the print statement"
   ]
  },
  {
   "cell_type": "markdown",
   "id": "40ae3be4",
   "metadata": {},
   "source": [
    "**6. What are the values of the given expressions?**"
   ]
  },
  {
   "cell_type": "code",
   "execution_count": 4,
   "id": "c7f3b493",
   "metadata": {},
   "outputs": [
    {
     "name": "stdout",
     "output_type": "stream",
     "text": [
      "e\n",
      "Hello, world!\n",
      "Hello\n",
      "Hello\n",
      "lo, world!\n"
     ]
    }
   ],
   "source": [
    "print('Hello, world!'[1])\n",
    "print('Hello, world!'[0:])\n",
    "print('Hello, world!'[0:5])\n",
    "print('Hello, world!'[:5])\n",
    "print('Hello, world!'[3:])"
   ]
  },
  {
   "cell_type": "markdown",
   "id": "e22bec55",
   "metadata": {},
   "source": [
    "**7. What are the values of the following expressions?**"
   ]
  },
  {
   "cell_type": "code",
   "execution_count": 6,
   "id": "f2290341",
   "metadata": {},
   "outputs": [
    {
     "name": "stdout",
     "output_type": "stream",
     "text": [
      "HELLO\n",
      "True\n",
      "hello\n"
     ]
    }
   ],
   "source": [
    "print('Hello'.upper())\n",
    "print('Hello'.upper().isupper())\n",
    "print('Hello'.upper().lower())"
   ]
  },
  {
   "cell_type": "markdown",
   "id": "273a463a",
   "metadata": {},
   "source": [
    "**8. What are the values of the following expressions? 'Remember, remember, the fifth of July.'.split() '-'.join('There can only one.'.split())**\n",
    "\n",
    "Ans - 'Remember, remember, the fifth of July.'.split() - this expression will split the string whereever it encounter with a whitespace. and the output will be ['Remember,', 'remember,', 'the', 'fifth', 'of', 'July.']\n",
    "\n",
    "'-'.join('There can only one.'.split()) - as above it will split based on white space then join the words with hyphen and the otput will be : 'There-can-only-one."
   ]
  },
  {
   "cell_type": "markdown",
   "id": "e921ac76",
   "metadata": {},
   "source": [
    "**9. What are the methods for right-justifying, left-justifying, and centering a string?**\n",
    "\n",
    "Ans. The methods for right-justifying, left-justifying, and centering a string are rjust(), ljust() and center() respectively."
   ]
  },
  {
   "cell_type": "markdown",
   "id": "6f998f02",
   "metadata": {},
   "source": [
    "**10.What is the best way to remove whitespace characters from the start or end?**\n",
    "\n",
    "Ans- Its recommended to use the strip method to remove the whitespaces from the start and end."
   ]
  },
  {
   "cell_type": "code",
   "execution_count": 9,
   "id": "0785a1aa",
   "metadata": {},
   "outputs": [
    {
     "data": {
      "text/plain": [
       "'satish'"
      ]
     },
     "execution_count": 9,
     "metadata": {},
     "output_type": "execute_result"
    }
   ],
   "source": [
    "s = \"   satish   \"\n",
    "s.strip()"
   ]
  },
  {
   "cell_type": "code",
   "execution_count": null,
   "id": "209fcb89",
   "metadata": {},
   "outputs": [],
   "source": []
  }
 ],
 "metadata": {
  "kernelspec": {
   "display_name": "Python 3 (ipykernel)",
   "language": "python",
   "name": "python3"
  },
  "language_info": {
   "codemirror_mode": {
    "name": "ipython",
    "version": 3
   },
   "file_extension": ".py",
   "mimetype": "text/x-python",
   "name": "python",
   "nbconvert_exporter": "python",
   "pygments_lexer": "ipython3",
   "version": "3.9.12"
  }
 },
 "nbformat": 4,
 "nbformat_minor": 5
}
