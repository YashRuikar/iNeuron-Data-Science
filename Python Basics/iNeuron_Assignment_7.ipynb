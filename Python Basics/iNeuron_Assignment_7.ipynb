{
 "cells": [
  {
   "cell_type": "markdown",
   "id": "8b1f0dfe",
   "metadata": {},
   "source": [
    "# Assignment 7"
   ]
  },
  {
   "cell_type": "markdown",
   "id": "d1c1aa17",
   "metadata": {},
   "source": [
    "**1. What is the name of the feature responsible for generating Regex objects?**\n",
    "\n",
    "Ans. The re. compile() function returns Regex objects."
   ]
  },
  {
   "cell_type": "markdown",
   "id": "6d7197dd",
   "metadata": {},
   "source": [
    "**2. Why do raw strings often appear in Regex objects?**\n",
    "\n",
    "Ans. Regular expressions use the backslash character ('') to indicate special forms (Metacharacters) or to allow special characters (speical sequences) to be used without invoking their special meaning. This collides with Python’s usage of the same character for the same purpose in string literals. Hence, Raw strings are used (e.g. r\"\\n\") so that backslashes do not have to be escaped."
   ]
  },
  {
   "cell_type": "markdown",
   "id": "ddde0af1",
   "metadata": {},
   "source": [
    "**3. What is the return value of the search() method?**\n",
    "\n",
    "Ans. The return value of re.search(pattern,string) method is a match object if the pattern is observed in the string else it returns a None"
   ]
  },
  {
   "cell_type": "markdown",
   "id": "ba10d9a1",
   "metadata": {},
   "source": [
    "**4. From a Match item, how do you get the actual strings that match the pattern?**\n",
    "\n",
    "Ans. For Matched items group() methods returns actual strings that match the pattern."
   ]
  },
  {
   "cell_type": "markdown",
   "id": "92bb1eac",
   "metadata": {},
   "source": [
    "**5. In the regex which created from the r'(\\d\\d\\d)-(\\d\\d\\d-\\d\\d\\d\\d)', what does group zero cover? Group 2? Group 1?**\n",
    "\n",
    "Ans. In the Regex r'(\\d\\d\\d)-(\\d\\d\\d-\\d\\d\\d\\d)' the zero group covers the entire pattern match where as the first group cover (\\d\\d\\d) and the second group cover (\\d\\d\\d-\\d\\d\\d\\d)"
   ]
  },
  {
   "cell_type": "markdown",
   "id": "46646739",
   "metadata": {},
   "source": [
    "**6. In standard expression syntax, parentheses and intervals have distinct meanings. How can you tell a regex that you want it to fit real parentheses and periods?**\n",
    "\n",
    "Ans. The . ( ) escape characters in the raw string passed to re.compile() will match actual parenthesis characters."
   ]
  },
  {
   "cell_type": "markdown",
   "id": "98c987c8",
   "metadata": {},
   "source": [
    "**7. The findall() method returns a string list or a list of string tuples. What causes it to return one of the two options?**\n",
    "\n",
    "Ans. If the regex pattern has no groups, a list of strings matched is returned. if the regex pattern has groups, a list of tuple of strings is returned."
   ]
  },
  {
   "cell_type": "markdown",
   "id": "648ce941",
   "metadata": {},
   "source": [
    "**8. In standard expressions, what does the | character mean?**\n",
    "\n",
    "Ans. In Standard Expressions | means OR operator."
   ]
  },
  {
   "cell_type": "markdown",
   "id": "14fdac63",
   "metadata": {},
   "source": [
    "**9. In regular expressions, what does the ? character stand for?**\n",
    "\n",
    "Ans. In regular Expressions, ? characters represents zero or one match of the preceeding group."
   ]
  },
  {
   "cell_type": "markdown",
   "id": "76e73363",
   "metadata": {},
   "source": [
    "**10.In regular expressions, what is the difference between the + and * characters?**\n",
    "\n",
    "Ans: In Regular Expressions, * Represents Zero ore more occurances of the preceeding group, whereas + represents one or more occurances of the preceeding group."
   ]
  },
  {
   "cell_type": "markdown",
   "id": "32376bb9",
   "metadata": {},
   "source": [
    "**11. What is the difference between {4} and {4,5} in regular expression?**\n",
    "\n",
    "Ans. {4} means that its preceeding group should repeat 4 times. where as {4,5} means that its preceeding group should repeat mininum 4 times and maximum 5 times inclusively"
   ]
  },
  {
   "cell_type": "markdown",
   "id": "2a18f00e",
   "metadata": {},
   "source": [
    "**12. What do you mean by the \\d, \\w, and \\s shorthand character classes signify in regular expressions?**\n",
    "\n",
    "Ans: \\d, \\w and \\s are special sequences in regular expresssions in python:\n",
    "\n",
    "1.\\w – Matches a word character equivalent to [a-zA-Z0-9_]\n",
    "\n",
    "2.\\d – Matches digit character equivalent to [0-9]\n",
    "\n",
    "3.\\s – Matches whitespace character (space, tab, newline, etc.)"
   ]
  },
  {
   "cell_type": "markdown",
   "id": "fa92da88",
   "metadata": {},
   "source": [
    "**13. What do means by \\D, \\W, and \\S shorthand character classes signify in regular expressions?**\n",
    "\n",
    "Ans: \\D, \\W and \\S are special sequences in regular expresssions in python:\n",
    "\n",
    "1.\\W – Matches any non-alphanumeric character equivalent to [^a-zA-Z0-9_]\n",
    "\n",
    "2.\\D – Matches any non-digit character, this is equivalent to the set class [^0-9]\n",
    "\n",
    "3.\\S – Matches any non-whitespace character"
   ]
  },
  {
   "cell_type": "markdown",
   "id": "ec84484d",
   "metadata": {},
   "source": [
    "**14. What is the difference between .? and .?**\n",
    "\n",
    "Ans: .* is a Greedy mode, which returns the longest string that meets the condition. Whereas .*? is a non greedy mode which returns the shortest string that meets the condition."
   ]
  },
  {
   "cell_type": "markdown",
   "id": "e758ca4c",
   "metadata": {},
   "source": [
    "**15. What is the syntax for matching both numbers and lowercase letters with a character class?**\n",
    "\n",
    "Ans. The Synatax is Either [a-z0-9] or [0-9a-z]"
   ]
  },
  {
   "cell_type": "markdown",
   "id": "6a778df0",
   "metadata": {},
   "source": [
    "**16. What is the procedure for making a normal expression in regax case insensitive?**\n",
    "\n",
    "Ans. We can pass re.IGNORECASE as a flag to make a noraml expression case insensitive"
   ]
  },
  {
   "cell_type": "markdown",
   "id": "f1829079",
   "metadata": {},
   "source": [
    "**17. What does the . character normally match? What does it match if re.DOTALL is passed as 2nd argument in re.compile()?**\n",
    "\n",
    "___Ans__ Dot . character matches everything in input except newline character .. By passing re.DOTALL as a flag to re.compile(), you can make the dot character match all characters, including the newline character."
   ]
  },
  {
   "cell_type": "markdown",
   "id": "9080e2dd",
   "metadata": {},
   "source": [
    "**18. If numReg = re.compile(r'\\d+'), what will numRegex.sub('X', '11 drummers, 10 pipers, five rings, 4 hen') return?**\n",
    "\n",
    "Ans: The Ouput will be 'X drummers, X pipers, five rings, X hen'"
   ]
  },
  {
   "cell_type": "markdown",
   "id": "531ab08c",
   "metadata": {},
   "source": [
    "**19. What does passing re.VERBOSE as the 2nd argument to re.compile() allow to do?**\n",
    "\n",
    "Ans: re.VERBOSE will allow to add whitespace and comments to string passed to re.compile()."
   ]
  },
  {
   "cell_type": "markdown",
   "id": "07c04020",
   "metadata": {},
   "source": [
    "**20. How would you write a regex that match a number with comma for every three digits? It must match the given following:**\n",
    "\n",
    "Ans '42','1,234', '6,368,745'but not the following: '12,34,567' (which has only two digits between the commas) '1234' (which lacks commas)"
   ]
  },
  {
   "cell_type": "markdown",
   "id": "12662c42",
   "metadata": {},
   "source": [
    "**21. How would you write a regex that matches the full name of someone whose last name is Watanabe? You can assume that the first name that comes before it will always be one word that begins with a capital letter. The regex must match the following:**\n",
    "\n",
    "'Haruto Watanabe' 'Alice Watanabe' 'RoboCop Watanabe'\n",
    "\n",
    "but not the following:\n",
    "\n",
    "'haruto Watanabe' (where the first name is not capitalized) 'Mr. Watanabe' (where the preceding word has a nonletter character) 'Watanabe' (which has no first name) 'Haruto watanabe' (where Watanabe is not capitalized)\n",
    "\n",
    "**Ans**. pattern = r'[A-Z]{1}[a-z]*\\sWatanabe'"
   ]
  },
  {
   "cell_type": "markdown",
   "id": "8d9b9316",
   "metadata": {},
   "source": [
    "**22. How would you write a regex that matches a sentence where the first word is either Alice, Bob,or Carol; the second word is either eats, pets, or throws; the third word is apples, cats, or baseballs; and the sentence ends with a period? This regex should be case-insensitive. It must match the following: 'Alice eats apples.' 'Bob pets cats.' 'Carol throws baseballs.' 'Alice throws Apples.' 'BOB EATS CATS.'**\n",
    "\n",
    "but not the following:\n",
    "\n",
    "'RoboCop eats apples.' 'ALICE THROWS FOOTBALLS.' 'Carol eats 7 cats.'\n",
    "\n",
    "**Ans**. Ans: pattern = r'(Alice|Bob|Carol)\\s(eats|pets|throws)\\s(apples|cats|baseballs).'"
   ]
  },
  {
   "cell_type": "code",
   "execution_count": null,
   "id": "74058d61",
   "metadata": {},
   "outputs": [],
   "source": []
  }
 ],
 "metadata": {
  "kernelspec": {
   "display_name": "Python 3 (ipykernel)",
   "language": "python",
   "name": "python3"
  },
  "language_info": {
   "codemirror_mode": {
    "name": "ipython",
    "version": 3
   },
   "file_extension": ".py",
   "mimetype": "text/x-python",
   "name": "python",
   "nbconvert_exporter": "python",
   "pygments_lexer": "ipython3",
   "version": "3.9.12"
  }
 },
 "nbformat": 4,
 "nbformat_minor": 5
}
