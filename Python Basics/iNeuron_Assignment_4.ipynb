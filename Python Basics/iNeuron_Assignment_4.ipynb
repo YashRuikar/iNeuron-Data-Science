{
 "cells": [
  {
   "cell_type": "markdown",
   "id": "7e88526a",
   "metadata": {},
   "source": [
    "# Assignment 4"
   ]
  },
  {
   "cell_type": "markdown",
   "id": "a36729ae",
   "metadata": {},
   "source": [
    "**1. What is exactly is[] ?**\n",
    "\n",
    "Ans - [] is an empty list. This is basically doesn't contain anything."
   ]
  },
  {
   "cell_type": "markdown",
   "id": "62c7b949",
   "metadata": {},
   "source": [
    "**2. In a list values stored in a variable callled spam how would you assign the value 'hello' as the third value? (Assume [2,4,6,8,10] are in spam.)**"
   ]
  },
  {
   "cell_type": "code",
   "execution_count": 1,
   "id": "e904a5f7",
   "metadata": {},
   "outputs": [
    {
     "name": "stdout",
     "output_type": "stream",
     "text": [
      "[2, 4, 'hello', 8, 10]\n"
     ]
    }
   ],
   "source": [
    "spam = [2,4,6,8,10]\n",
    "spam[2] = 'hello'\n",
    "print(spam)"
   ]
  },
  {
   "cell_type": "markdown",
   "id": "dccaa90c",
   "metadata": {},
   "source": [
    "**3. What is the value of spam[int(int(3*2)/11)] ?**"
   ]
  },
  {
   "cell_type": "code",
   "execution_count": 4,
   "id": "0c0b85e1",
   "metadata": {},
   "outputs": [
    {
     "name": "stdout",
     "output_type": "stream",
     "text": [
      "[3]\n"
     ]
    }
   ],
   "source": [
    "spam = [int(int('3' * 2) / 11)]\n",
    "print(spam)"
   ]
  },
  {
   "cell_type": "markdown",
   "id": "ebf31335",
   "metadata": {},
   "source": [
    "**4.What is the value of spam[-1] ?**"
   ]
  },
  {
   "cell_type": "code",
   "execution_count": 6,
   "id": "b38038e2",
   "metadata": {},
   "outputs": [
    {
     "name": "stdout",
     "output_type": "stream",
     "text": [
      "[3]\n"
     ]
    }
   ],
   "source": [
    "spam[-1]\n",
    "print(spam)"
   ]
  },
  {
   "cell_type": "markdown",
   "id": "ec649de5",
   "metadata": {},
   "source": [
    "**5.What is the value of spam[:2]?**"
   ]
  },
  {
   "cell_type": "code",
   "execution_count": 7,
   "id": "5018bdca",
   "metadata": {},
   "outputs": [
    {
     "name": "stdout",
     "output_type": "stream",
     "text": [
      "[3]\n"
     ]
    }
   ],
   "source": [
    "spam[:2]\n",
    "print(spam)"
   ]
  },
  {
   "cell_type": "markdown",
   "id": "8aefd6a0",
   "metadata": {},
   "source": [
    "**Let's pretend bacon has the list [3.14, 'cat', 11, 'cat', True] for the next three questions.**"
   ]
  },
  {
   "cell_type": "markdown",
   "id": "c6b8b34a",
   "metadata": {},
   "source": [
    "**6. What is the value of bacon.index('cat')?**\n",
    "\n",
    "Ans- The value of bacon.index('cat') is 1"
   ]
  },
  {
   "cell_type": "code",
   "execution_count": 12,
   "id": "8910b96e",
   "metadata": {},
   "outputs": [
    {
     "name": "stdout",
     "output_type": "stream",
     "text": [
      "bacon.index('cat') -> 1\n"
     ]
    }
   ],
   "source": [
    "bacon = [3.14, 'cat', 11, 'cat', True] \n",
    "print(\"bacon.index('cat') ->\", bacon.index('cat'))"
   ]
  },
  {
   "cell_type": "markdown",
   "id": "761e7acd",
   "metadata": {},
   "source": [
    "**7. How doew bacon.append(99) change the look of the list values in baocn?**"
   ]
  },
  {
   "cell_type": "code",
   "execution_count": 13,
   "id": "15ba3d03",
   "metadata": {},
   "outputs": [
    {
     "name": "stdout",
     "output_type": "stream",
     "text": [
      "Before Append [3.14, 'cat', 11, 'cat', True]\n",
      "After Append [3.14, 'cat', 11, 'cat', True, 99]\n"
     ]
    }
   ],
   "source": [
    "print(\"Before Append\", bacon)\n",
    "bacon.append(99)\n",
    "print(\"After Append\", bacon)"
   ]
  },
  {
   "cell_type": "markdown",
   "id": "e982fb7f",
   "metadata": {},
   "source": [
    "**8. How does bacon.remove('cat') change the look of the list in the bacon?**"
   ]
  },
  {
   "cell_type": "code",
   "execution_count": 14,
   "id": "e38ac8ee",
   "metadata": {},
   "outputs": [
    {
     "name": "stdout",
     "output_type": "stream",
     "text": [
      "Before Remove [3.14, 'cat', 11, 'cat', True, 99]\n",
      "After Remove [3.14, 11, 'cat', True, 99]\n"
     ]
    }
   ],
   "source": [
    "print(\"Before Remove\", bacon)\n",
    "bacon.remove('cat')\n",
    "print(\"After Remove\", bacon)"
   ]
  },
  {
   "cell_type": "markdown",
   "id": "903e0355",
   "metadata": {},
   "source": [
    "**9. What are the list concatenation and list replication operators?**\n",
    "\n",
    "Ans. The operator for list concatenation is +, while the operator for replication is *."
   ]
  },
  {
   "cell_type": "markdown",
   "id": "0cc1d0fd",
   "metadata": {},
   "source": [
    "**10. What is difference between the list methods append() and insert()?**\n",
    "\n",
    "Ans. The append() will add values only to the end of a list, insert() can add them anywhere in the list"
   ]
  },
  {
   "cell_type": "markdown",
   "id": "73620a8d",
   "metadata": {},
   "source": [
    "**11. What are the two methods for removing items from a list?**\n",
    "\n",
    "Ans. The del statement and the remove() method are two ways to remove values from a list."
   ]
  },
  {
   "cell_type": "markdown",
   "id": "f9c16f23",
   "metadata": {},
   "source": [
    "**12. Describe how list values and string values are identical.**\n",
    "\n",
    "Ans. Both lists and strings can be passed to len() function, have indexes and slices, be used in for loops, be concatenated or replicated, and be used with the in and not in operators"
   ]
  },
  {
   "cell_type": "markdown",
   "id": "c396323e",
   "metadata": {},
   "source": [
    "**13. What's the difference between tuples and lists?**\n",
    "\n",
    "Ans. Lists are Mutable, Indexable and Slicable. they can have values added, removed, or changed. Tuples are Immutable but Indexable and Slicable. the tuple values cannot be changed at all. Also, tuples are represented using parentheses, (), while lists use the square brackets, []."
   ]
  },
  {
   "cell_type": "markdown",
   "id": "8252a9bd",
   "metadata": {},
   "source": [
    "**14. How do you type a tuple value that only contains the integer 42?**"
   ]
  },
  {
   "cell_type": "code",
   "execution_count": 15,
   "id": "bb0e2004",
   "metadata": {},
   "outputs": [
    {
     "name": "stdout",
     "output_type": "stream",
     "text": [
      "<class 'int'>\n"
     ]
    }
   ],
   "source": [
    "tup = (42)\n",
    "print(type(tup))"
   ]
  },
  {
   "cell_type": "markdown",
   "id": "e767bce7",
   "metadata": {},
   "source": [
    "**15. How do you get a list value's tuple form? How do you get a tuple value's list form?**\n",
    "\n",
    "Ans. The tuple() and list() functions, respectively are used to convert a list to tuple and vice versa."
   ]
  },
  {
   "cell_type": "markdown",
   "id": "53fcb1eb",
   "metadata": {},
   "source": [
    "**16. Variables that \"contain\" list values are not necessarily lists themselves. Instead, what do they contain?**\n",
    "\n",
    "Ans. They contain references to list values."
   ]
  },
  {
   "cell_type": "markdown",
   "id": "c504fa2b",
   "metadata": {},
   "source": [
    "**17. How do you distinguish between copy.copy() and copy.deepcopy()?**\n",
    "\n",
    "Ans. The copy.copy() function will do a shallow copy of a list, while the copy.deepcopy() function will do a deep copy of a list. That is, only copy.deepcopy() will duplicate any lists inside the list."
   ]
  },
  {
   "cell_type": "code",
   "execution_count": null,
   "id": "93c440e5",
   "metadata": {},
   "outputs": [],
   "source": []
  }
 ],
 "metadata": {
  "kernelspec": {
   "display_name": "Python 3 (ipykernel)",
   "language": "python",
   "name": "python3"
  },
  "language_info": {
   "codemirror_mode": {
    "name": "ipython",
    "version": 3
   },
   "file_extension": ".py",
   "mimetype": "text/x-python",
   "name": "python",
   "nbconvert_exporter": "python",
   "pygments_lexer": "ipython3",
   "version": "3.9.12"
  }
 },
 "nbformat": 4,
 "nbformat_minor": 5
}
