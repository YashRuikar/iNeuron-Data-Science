{
 "cells": [
  {
   "cell_type": "markdown",
   "id": "10524892",
   "metadata": {},
   "source": [
    "# Assignment 5\n"
   ]
  },
  {
   "cell_type": "markdown",
   "id": "a00ab14f",
   "metadata": {},
   "source": [
    "**1. What does an empty dictionary's code look like?**\n",
    "\n",
    "Ans: An empty dictionary is often represented by two empty curly brackets d = {} or d = dict() "
   ]
  },
  {
   "cell_type": "markdown",
   "id": "ce299edc",
   "metadata": {},
   "source": [
    "**2. What is the value of a dictionary value with the key 'foo' and the value 42?**\n",
    "\n",
    "Ans. {'foo':42}"
   ]
  },
  {
   "cell_type": "markdown",
   "id": "fa2ba945",
   "metadata": {},
   "source": [
    "**3. What is the most significant distinction between a dictionary and a list?**\n",
    "\n",
    "Ans. Dictionaries are represented by {} where as listed are represented by [] The Items stored in a dictionary are Unordered , while the items in a list are ordered"
   ]
  },
  {
   "cell_type": "markdown",
   "id": "c2594b6d",
   "metadata": {},
   "source": [
    "**4. What happens if you try to access spam['foo'] if spam is {'bar':100}?**\n",
    "\n",
    "Ans - We will get keyerror: 'foo'"
   ]
  },
  {
   "cell_type": "code",
   "execution_count": 1,
   "id": "9544a639",
   "metadata": {},
   "outputs": [
    {
     "ename": "KeyError",
     "evalue": "'foo'",
     "output_type": "error",
     "traceback": [
      "\u001b[1;31m---------------------------------------------------------------------------\u001b[0m",
      "\u001b[1;31mKeyError\u001b[0m                                  Traceback (most recent call last)",
      "Input \u001b[1;32mIn [1]\u001b[0m, in \u001b[0;36m<cell line: 2>\u001b[1;34m()\u001b[0m\n\u001b[0;32m      1\u001b[0m spam \u001b[38;5;241m=\u001b[39m {\u001b[38;5;124m'\u001b[39m\u001b[38;5;124mbar\u001b[39m\u001b[38;5;124m'\u001b[39m:\u001b[38;5;241m100\u001b[39m}\n\u001b[1;32m----> 2\u001b[0m \u001b[38;5;28mprint\u001b[39m(\u001b[43mspam\u001b[49m\u001b[43m[\u001b[49m\u001b[38;5;124;43m'\u001b[39;49m\u001b[38;5;124;43mfoo\u001b[39;49m\u001b[38;5;124;43m'\u001b[39;49m\u001b[43m]\u001b[49m)\n",
      "\u001b[1;31mKeyError\u001b[0m: 'foo'"
     ]
    }
   ],
   "source": [
    "spam = {'bar':100}\n",
    "print(spam['foo'])"
   ]
  },
  {
   "cell_type": "markdown",
   "id": "a392247e",
   "metadata": {},
   "source": [
    "**5.If a dictionary is stored in spam,what is the difference between the expressions 'cat' in spam and 'cat' in spam.keys() ?**\n",
    "\n",
    "Ans. There is no difference . The operator checks whether a value exits as a key in the dictionary or not."
   ]
  },
  {
   "cell_type": "markdown",
   "id": "49028386",
   "metadata": {},
   "source": [
    "**6.If a dictionary is stored in spam,what is the difference between the expressions 'cat' in spam and 'cat' in spam.values() ?**\n",
    "\n",
    "Ans. 'cat' in spam checks whether there is a 'cat' key in the dictionary, while 'cat' in spam.values() checks whether there is a value 'cat' for one of the keys in spam."
   ]
  },
  {
   "cell_type": "markdown",
   "id": "51a48aa7",
   "metadata": {},
   "source": [
    "**7.what is a shortcut for the following code ? if 'color' not in spam: spam['color'] ='black'**\n",
    "\n",
    "Ans. spam.setdefault('color','black')"
   ]
  },
  {
   "cell_type": "markdown",
   "id": "129d73bc",
   "metadata": {},
   "source": [
    "**8. How do you 'pretty print' dictionary values using which modules and function ?**\n",
    "\n",
    "Ans. We can pretty print a dictionary using three functions:\n",
    "\n",
    "1.by using pprint() function of pprint module\n",
    "  Note: pprint() function doesnot prettify nested dictionaries\n",
    "  \n",
    "2.by using dumps() method of json module\n",
    "\n",
    "3.by using dumps() method of yaml module"
   ]
  },
  {
   "cell_type": "code",
   "execution_count": 2,
   "id": "c96504b8",
   "metadata": {},
   "outputs": [
    {
     "name": "stdout",
     "output_type": "stream",
     "text": [
      "printing using print() function\n",
      " [{'Name': 'Dhoni', 'Age': '42', 'Residence': {'Country': 'India', 'City': 'Jharkhand'}}, {'Name': 'Jadeja', 'Age': '35', 'Residence': {'Country': 'India', 'City': 'Rajasthan'}}, {'Name': 'Raina', 'Age': '37', 'Residence': {'Country': 'India', 'City': 'Up'}}, {'Name': 'Virat', 'Age': '30', 'Residence': {'Country': 'India', 'City': 'Delhi'}}, {'Name': 'Rohit', 'Age': '36', 'Residence': {'Country': 'India', 'City': 'Mumbai'}}]\n",
      "....................................................................................................\n",
      "Printing using pprint() function\n",
      "[{'Age': '42',\n",
      "  'Name': 'Dhoni',\n",
      "  'Residence': {'City': 'Jharkhand', 'Country': 'India'}},\n",
      " {'Age': '35',\n",
      "  'Name': 'Jadeja',\n",
      "  'Residence': {'City': 'Rajasthan', 'Country': 'India'}},\n",
      " {'Age': '37',\n",
      "  'Name': 'Raina',\n",
      "  'Residence': {'City': 'Up', 'Country': 'India'}},\n",
      " {'Age': '30',\n",
      "  'Name': 'Virat',\n",
      "  'Residence': {'City': 'Delhi', 'Country': 'India'}},\n",
      " {'Age': '36',\n",
      "  'Name': 'Rohit',\n",
      "  'Residence': {'City': 'Mumbai', 'Country': 'India'}}]\n",
      "....................................................................................................\n",
      "Printing using dumps() method\n",
      " [\n",
      "    {\n",
      "        \"Name\": \"Dhoni\",\n",
      "        \"Age\": \"42\",\n",
      "        \"Residence\": {\n",
      "            \"Country\": \"India\",\n",
      "            \"City\": \"Jharkhand\"\n",
      "        }\n",
      "    },\n",
      "    {\n",
      "        \"Name\": \"Jadeja\",\n",
      "        \"Age\": \"35\",\n",
      "        \"Residence\": {\n",
      "            \"Country\": \"India\",\n",
      "            \"City\": \"Rajasthan\"\n",
      "        }\n",
      "    },\n",
      "    {\n",
      "        \"Name\": \"Raina\",\n",
      "        \"Age\": \"37\",\n",
      "        \"Residence\": {\n",
      "            \"Country\": \"India\",\n",
      "            \"City\": \"Up\"\n",
      "        }\n",
      "    },\n",
      "    {\n",
      "        \"Name\": \"Virat\",\n",
      "        \"Age\": \"30\",\n",
      "        \"Residence\": {\n",
      "            \"Country\": \"India\",\n",
      "            \"City\": \"Delhi\"\n",
      "        }\n",
      "    },\n",
      "    {\n",
      "        \"Name\": \"Rohit\",\n",
      "        \"Age\": \"36\",\n",
      "        \"Residence\": {\n",
      "            \"Country\": \"India\",\n",
      "            \"City\": \"Mumbai\"\n",
      "        }\n",
      "    }\n",
      "]\n",
      "..........\n",
      "Printing using dump() method\n",
      " - Age: '42'\n",
      "  Name: Dhoni\n",
      "  Residence:\n",
      "    City: Jharkhand\n",
      "    Country: India\n",
      "- Age: '35'\n",
      "  Name: Jadeja\n",
      "  Residence:\n",
      "    City: Rajasthan\n",
      "    Country: India\n",
      "- Age: '37'\n",
      "  Name: Raina\n",
      "  Residence:\n",
      "    City: Up\n",
      "    Country: India\n",
      "- Age: '30'\n",
      "  Name: Virat\n",
      "  Residence:\n",
      "    City: Delhi\n",
      "    Country: India\n",
      "- Age: '36'\n",
      "  Name: Rohit\n",
      "  Residence:\n",
      "    City: Mumbai\n",
      "    Country: India\n",
      "\n"
     ]
    }
   ],
   "source": [
    "# Example\n",
    "\n",
    "ndict = [\n",
    "    {'Name': 'Dhoni', 'Age':'42', 'Residence':{'Country':'India', 'City':'Jharkhand'}},\n",
    "    {'Name': 'Jadeja', 'Age':'35', 'Residence':{'Country':'India', 'City':'Rajasthan'}},\n",
    "    {'Name': 'Raina', 'Age':'37', 'Residence':{'Country':'India', 'City':'Up'}},\n",
    "    {'Name': 'Virat', 'Age':'30','Residence': {'Country':'India', 'City': 'Delhi'}},\n",
    "    {'Name': 'Rohit', 'Age': '36', 'Residence': {'Country':'India', 'City': 'Mumbai'}}\n",
    "]\n",
    "\n",
    "\n",
    "print('printing using print() function\\n', ndict)\n",
    "print('.'*100)\n",
    "\n",
    "import pprint\n",
    "print('Printing using pprint() function')\n",
    "pprint.pprint(ndict)\n",
    "print('.'*100)\n",
    "\n",
    "import json\n",
    "dump = json.dumps(ndict, indent = 4)\n",
    "print('Printing using dumps() method\\n', dump)\n",
    "print('.'*10)\n",
    "\n",
    "import yaml\n",
    "dump = yaml.dump(ndict)\n",
    "print('Printing using dump() method\\n', dump)"
   ]
  },
  {
   "cell_type": "code",
   "execution_count": null,
   "id": "d0af1198",
   "metadata": {},
   "outputs": [],
   "source": []
  }
 ],
 "metadata": {
  "kernelspec": {
   "display_name": "Python 3 (ipykernel)",
   "language": "python",
   "name": "python3"
  },
  "language_info": {
   "codemirror_mode": {
    "name": "ipython",
    "version": 3
   },
   "file_extension": ".py",
   "mimetype": "text/x-python",
   "name": "python",
   "nbconvert_exporter": "python",
   "pygments_lexer": "ipython3",
   "version": "3.9.12"
  }
 },
 "nbformat": 4,
 "nbformat_minor": 5
}
