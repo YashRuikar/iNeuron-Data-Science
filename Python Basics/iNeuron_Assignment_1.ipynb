{
 "cells": [
  {
   "cell_type": "markdown",
   "id": "8edffbab",
   "metadata": {},
   "source": [
    "# 1. In the below elements which of them are values or an expression? e.g:- values can be integer or string and expressions will be mathematical operators.\n",
    "\n",
    "a) = expression\n",
    "\n",
    "b) -87.8 = integer\n",
    "\n",
    "c) /= expression\n",
    "\n",
    "d) 6 = integer'hello' = string"
   ]
  },
  {
   "cell_type": "markdown",
   "id": "d80f60c6",
   "metadata": {},
   "source": [
    "#  What is the difference between string and variable?\n",
    "\n",
    "ANS-\n",
    "\n",
    "1.Variable are symbolsthat you can use to store data in a program.\n",
    "\n",
    "2.Strings are data so we can use them to fill up a variable.\n",
    "\n",
    "Ex - string x = \"Welcome to sololearn\" \n",
    "\n",
    "x is the varible an dwe declared it as a string use the single = to assign the text to it."
   ]
  },
  {
   "cell_type": "markdown",
   "id": "fecb8f97",
   "metadata": {},
   "source": [
    "# 3. Describe three different data types.\n",
    "\n",
    "Python has the following data types built in by default, in these caregories:\n",
    "\n",
    "1. Type : str\n",
    "2. Numeric Types : int, float, complex\n",
    "3. Sequence Types: list, tuple, range\n",
    "4. Mapping type : dict\n",
    "5. Set Types : set, frozenset\n",
    "6. Boolean Type : bool\n",
    "7. binary types: bytes, bytearray, memoryview\n",
    "8. None Type: nonetype"
   ]
  },
  {
   "cell_type": "markdown",
   "id": "3bbab430",
   "metadata": {},
   "source": [
    "# 4. What is an expression made up of? What do all expressions do?\n",
    "\n",
    "An expression is a combination of operators and operands that is interpreted to produce some other value. In any programming langauge an expression is evalauted as per the precedence of its operators.\n"
   ]
  },
  {
   "cell_type": "markdown",
   "id": "a05c018a",
   "metadata": {},
   "source": [
    "# 5. This assignment statements like spam = 10. What is the difference between an expression and a statement?\n",
    "\n",
    "Ans- An \"expression\" is a combination of values and functions that are combined and interpreted by the compiler to create a new value as opposed to a \"statement\" which is just a stand alone unit of execution and doesen't return anything."
   ]
  },
  {
   "cell_type": "markdown",
   "id": "cb7bfd74",
   "metadata": {},
   "source": [
    "# 6. After running the following code, what does the variable becon contain?\n",
    "\n",
    "bacon = 22\n",
    "\n",
    "bacon +1"
   ]
  },
  {
   "cell_type": "code",
   "execution_count": 1,
   "id": "08106617",
   "metadata": {},
   "outputs": [
    {
     "name": "stdout",
     "output_type": "stream",
     "text": [
      "22\n"
     ]
    }
   ],
   "source": [
    "bacon = 22\n",
    "bacon +1\n",
    "print(bacon)"
   ]
  },
  {
   "cell_type": "markdown",
   "id": "697bcf36",
   "metadata": {},
   "source": [
    "# 7. What should the values of the following two terms be?\n",
    "\n",
    "spam + spamspam\n",
    "\n",
    "spam * 3"
   ]
  },
  {
   "cell_type": "code",
   "execution_count": 2,
   "id": "2a8c29df",
   "metadata": {},
   "outputs": [
    {
     "name": "stdout",
     "output_type": "stream",
     "text": [
      "spamspamspam\n",
      "spamspamspam\n"
     ]
    }
   ],
   "source": [
    "print(\"spam\" + \"spamspam\")\n",
    "print(\"spam\" * 3)"
   ]
  },
  {
   "cell_type": "markdown",
   "id": "39495fd3",
   "metadata": {},
   "source": [
    "# 8. Why is eggs a valid variable name while 100 is invalid?\n",
    "\n",
    "Ans- eggs is valid varible name because variable name cannot begin with number."
   ]
  },
  {
   "cell_type": "markdown",
   "id": "e283deb5",
   "metadata": {},
   "source": [
    "# 9. What three functions can be used to get the integer, floating - point number, or  string version of a value?\n",
    "\n",
    "Ans- The int(), float() and str() functions will evaluate to the integer, floating-point number, and string versions of the value passed to them."
   ]
  },
  {
   "cell_type": "markdown",
   "id": "ec7ff7cd",
   "metadata": {},
   "source": [
    "# 10. Why does this expression cause an error? How can you fix it?\n",
    "\n",
    "' I have eaten ' + 99 + 'burritos'\n",
    "\n",
    "Ans- The error is caused due to the integer value. Integer value cannot be concatenated with strings. We can fix this by converting the int value to string."
   ]
  },
  {
   "cell_type": "code",
   "execution_count": 3,
   "id": "71db0d37",
   "metadata": {},
   "outputs": [
    {
     "ename": "TypeError",
     "evalue": "can only concatenate str (not \"int\") to str",
     "output_type": "error",
     "traceback": [
      "\u001b[1;31m---------------------------------------------------------------------------\u001b[0m",
      "\u001b[1;31mTypeError\u001b[0m                                 Traceback (most recent call last)",
      "Input \u001b[1;32mIn [3]\u001b[0m, in \u001b[0;36m<cell line: 1>\u001b[1;34m()\u001b[0m\n\u001b[1;32m----> 1\u001b[0m \u001b[38;5;28mprint\u001b[39m(\u001b[38;5;124;43m'\u001b[39;49m\u001b[38;5;124;43mI have eaten\u001b[39;49m\u001b[38;5;124;43m'\u001b[39;49m\u001b[43m \u001b[49m\u001b[38;5;241;43m+\u001b[39;49m\u001b[43m \u001b[49m\u001b[38;5;241;43m99\u001b[39;49m \u001b[38;5;241m+\u001b[39m \u001b[38;5;124m'\u001b[39m\u001b[38;5;124mburritos\u001b[39m\u001b[38;5;124m'\u001b[39m)\n",
      "\u001b[1;31mTypeError\u001b[0m: can only concatenate str (not \"int\") to str"
     ]
    }
   ],
   "source": [
    "print('I have eaten' + 99 + 'burritos')"
   ]
  },
  {
   "cell_type": "code",
   "execution_count": 6,
   "id": "3dd8fc91",
   "metadata": {},
   "outputs": [
    {
     "name": "stdout",
     "output_type": "stream",
     "text": [
      "I have eaten 99 burritos\n"
     ]
    }
   ],
   "source": [
    "print('I have eaten' + ' 99 ' + 'burritos')"
   ]
  },
  {
   "cell_type": "code",
   "execution_count": null,
   "id": "96a5f7a2",
   "metadata": {},
   "outputs": [],
   "source": []
  }
 ],
 "metadata": {
  "kernelspec": {
   "display_name": "Python 3 (ipykernel)",
   "language": "python",
   "name": "python3"
  },
  "language_info": {
   "codemirror_mode": {
    "name": "ipython",
    "version": 3
   },
   "file_extension": ".py",
   "mimetype": "text/x-python",
   "name": "python",
   "nbconvert_exporter": "python",
   "pygments_lexer": "ipython3",
   "version": "3.9.12"
  }
 },
 "nbformat": 4,
 "nbformat_minor": 5
}
