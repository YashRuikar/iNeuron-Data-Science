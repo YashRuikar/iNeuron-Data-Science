{
 "cells": [
  {
   "cell_type": "markdown",
   "id": "d6db48c8",
   "metadata": {},
   "source": [
    "# Assignment 9\n"
   ]
  },
  {
   "cell_type": "markdown",
   "id": "bc1eb20c",
   "metadata": {},
   "source": [
    "**1.To what does a relative path refer ?**\n",
    "\n",
    "Ans: The relative path is the path to some file with respect to your current working directory (PWD). For example: if Absolute path to a file called test.txt is: C:/users/admin/docs/test.txt If my PWD is C:/users/admin/ , then the relative path to stuff.txt would be: docs/test.txt Note: PWD + relative path = absolute path"
   ]
  },
  {
   "cell_type": "markdown",
   "id": "53aebe9e",
   "metadata": {},
   "source": [
    "**2.Where does an absolute path start with your Operating System ?**\n",
    "\n",
    "Ans: In Linux based systems the absolute path starts with /. Where as in Windows based systems absolute path starts with C:"
   ]
  },
  {
   "cell_type": "markdown",
   "id": "a4f016df",
   "metadata": {},
   "source": [
    "**3. What do the functions os.getcwd() and os.chdir() do?**\n",
    "\n",
    "Ans: os.getcwd() method tells us the location of current working directory (CWD). Whereas os.chdir() method in Python used to change the current working directory to specified path. These functions are similar to linux commands pwd and cd"
   ]
  },
  {
   "cell_type": "code",
   "execution_count": 1,
   "id": "ccba8a3c",
   "metadata": {},
   "outputs": [
    {
     "name": "stdout",
     "output_type": "stream",
     "text": [
      "C:\\Users\\ASUS\\iNeuron\\Python Basics\n",
      "<built-in function getcwd>\n"
     ]
    }
   ],
   "source": [
    "import os\n",
    "print(os.getcwd())\n",
    "path = r'C:\\Users\\ASUS\\iNeuron\\Python Basics'\n",
    "os.chdir(path)\n",
    "print(os.getcwd)"
   ]
  },
  {
   "cell_type": "markdown",
   "id": "a3d82d6c",
   "metadata": {},
   "source": [
    "**4. What are the . and .. folders?**\n",
    "\n",
    "Ans . Represents the Current Directory Whereas .. Represents the Parent Directory of the Current Directory"
   ]
  },
  {
   "cell_type": "markdown",
   "id": "031e1f07",
   "metadata": {},
   "source": [
    "**5. In C:\\bacon\\eggs\\spam.txt, which part is the dir name, and which part is the base name?**\n",
    "\n",
    "Ans: For C:\\bacon\\eggs\\spam.txt\n",
    "\n",
    "The dir name is C:\\bacon\\eggs\n",
    "\n",
    "The Base name is spam.txt"
   ]
  },
  {
   "cell_type": "markdown",
   "id": "57f1d128",
   "metadata": {},
   "source": [
    "**6.What are the three \"mode\" arguments that can be passed to the open() function ?**\n",
    "\n",
    "Ans: The string 'r' for read mode, 'w' for write mode, and 'a' for append mode"
   ]
  },
  {
   "cell_type": "markdown",
   "id": "66b1a315",
   "metadata": {},
   "source": [
    "**7. What happens if an existing file is opened in write mode?**\n",
    "\n",
    "Ans: Using this mode will overwrite any existing content in a file. If the given file does not exist, a new one will be created."
   ]
  },
  {
   "cell_type": "markdown",
   "id": "1805aaf6",
   "metadata": {},
   "source": [
    "**8.How do you tell the difference between read() and readlines() ?**\n",
    "\n",
    "**Ans**: The main difference is that **read()** will read the whole file at once and then print out the first characters that take up as many bytes as you specify in the parenthesis\n",
    "\n",
    "Whereas the **readline()** that will read and print out only the first characters that take up as many bytes as you specify in the parenthesis. You may want to use readline() when you're reading files that are too big for your RAM. The read() would treat each character in the file separately, meaning that the iteration would happen for every character. The readline() function, on the other hand, only reads a single line of the file. This means that if the first line of the file were three lines long, the readline() function would only parse (or iterate/operate) on the first line of the file."
   ]
  },
  {
   "cell_type": "markdown",
   "id": "53cda1de",
   "metadata": {},
   "source": [
    "**9.What data structure does a shelf value resemble ?**\n",
    "\n",
    "Ans: it contains key and values it represents dictionary."
   ]
  },
  {
   "cell_type": "code",
   "execution_count": null,
   "id": "e9744262",
   "metadata": {},
   "outputs": [],
   "source": []
  }
 ],
 "metadata": {
  "kernelspec": {
   "display_name": "Python 3 (ipykernel)",
   "language": "python",
   "name": "python3"
  },
  "language_info": {
   "codemirror_mode": {
    "name": "ipython",
    "version": 3
   },
   "file_extension": ".py",
   "mimetype": "text/x-python",
   "name": "python",
   "nbconvert_exporter": "python",
   "pygments_lexer": "ipython3",
   "version": "3.9.12"
  }
 },
 "nbformat": 4,
 "nbformat_minor": 5
}
