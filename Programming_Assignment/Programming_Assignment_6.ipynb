{
 "cells": [
  {
   "cell_type": "markdown",
   "id": "748191c0",
   "metadata": {},
   "source": [
    "# Assignment 6\n"
   ]
  },
  {
   "cell_type": "markdown",
   "id": "24f58aa8",
   "metadata": {},
   "source": [
    "**1. Write a python program to display fibonacci sequence using recursion ?**"
   ]
  },
  {
   "cell_type": "code",
   "execution_count": 1,
   "id": "6fafa9da",
   "metadata": {},
   "outputs": [
    {
     "name": "stdout",
     "output_type": "stream",
     "text": [
      "Enter the length of series: 20\n",
      "0, 1, 3, 5, 8, 13, 21, 34, 55, 89, 144, 233, 377, 610, 987, 1597, 2584, 4181, 6765, 10946, 17711, 28657, "
     ]
    }
   ],
   "source": [
    "def genFibonacci(n,a,b):\n",
    "    if n ==0:\n",
    "        return 1\n",
    "    else:\n",
    "        result = a + b\n",
    "        print(result, end = ', ')\n",
    "        genFibonacci(n - 1, b, result)\n",
    "\n",
    "in_num = int(input(\"Enter the length of series: \"))\n",
    "print('0, 1', end = ', ')\n",
    "genFibonacci(in_num, 1 ,2)"
   ]
  },
  {
   "cell_type": "markdown",
   "id": "62520dbb",
   "metadata": {},
   "source": [
    "**2. Write a python program to find factorial of a number using Recursion ?**"
   ]
  },
  {
   "cell_type": "code",
   "execution_count": 7,
   "id": "957384fb",
   "metadata": {},
   "outputs": [
    {
     "name": "stdout",
     "output_type": "stream",
     "text": [
      "Enter a number: 5\n",
      "The factorial of 5 is 120\n"
     ]
    }
   ],
   "source": [
    "def factorial(num):\n",
    "    if (num < 1):\n",
    "        return 1\n",
    "    else:\n",
    "        return num * factorial(num - 1)\n",
    "\n",
    "num = int(input(\"Enter a number: \"))\n",
    "value = factorial(num)\n",
    "print(f'The factorial of {num} is {value}')"
   ]
  },
  {
   "cell_type": "markdown",
   "id": "5d3229b5",
   "metadata": {},
   "source": [
    "**3. Write a python program to calculate your Body Mass Index ?**"
   ]
  },
  {
   "cell_type": "code",
   "execution_count": 13,
   "id": "236b4e5c",
   "metadata": {},
   "outputs": [
    {
     "name": "stdout",
     "output_type": "stream",
     "text": [
      "Enter your weight(kgs): 60\n",
      "Enter your height(mts): 1.7\n",
      "Your're BMI is 20.761245674740486 and status is Healthy\n"
     ]
    }
   ],
   "source": [
    "def calculateBMI():\n",
    "    in_weight = eval(input(\"Enter your weight(kgs): \"))\n",
    "    in_height = eval(input(\"Enter your height(mts): \"))\n",
    "    \n",
    "    calc_bmi = in_weight / pow(in_height, 2)\n",
    "    \n",
    "    if (calc_bmi < 18.5):\n",
    "        status = 'Underweight'\n",
    "    elif (calc_bmi >= 18.5 and calc_bmi < 24.9):\n",
    "        status = 'Healthy'\n",
    "    elif (calc_bmi >=24.9 and calc_bmi < 30):\n",
    "        status = 'Overweight'\n",
    "    elif (calc_bmi >= 30):\n",
    "        status = 'Suffering from Obesity'\n",
    "    \n",
    "    print(f'Your\\'re BMI is {calc_bmi} and status is {status}')\n",
    "    \n",
    "calculateBMI()"
   ]
  },
  {
   "cell_type": "markdown",
   "id": "a081c7a2",
   "metadata": {},
   "source": [
    "**4. Write a python program to calculate the natural logarithm of any number ?**"
   ]
  },
  {
   "cell_type": "code",
   "execution_count": 14,
   "id": "924e42f6",
   "metadata": {
    "scrolled": true
   },
   "outputs": [
    {
     "name": "stdout",
     "output_type": "stream",
     "text": [
      "Enter a number: 32\n",
      "3.4657359027997265\n"
     ]
    }
   ],
   "source": [
    "import math\n",
    "def genNatLog():\n",
    "    in_num = eval(input(\"Enter a number: \"))\n",
    "    print(math.log(in_num))\n",
    "    \n",
    "genNatLog()"
   ]
  },
  {
   "cell_type": "markdown",
   "id": "c64bf7c1",
   "metadata": {},
   "source": [
    "**5. Write a pyhton program for cube sum of first n natural numbers?**"
   ]
  },
  {
   "cell_type": "code",
   "execution_count": 8,
   "id": "1c964d60",
   "metadata": {},
   "outputs": [
    {
     "name": "stdout",
     "output_type": "stream",
     "text": [
      "Enter the no of natural number: 3\n",
      "The cube sum of first 3 Natural Numbers is 36.0\n"
     ]
    }
   ],
   "source": [
    "def cubeOfNaturalNumbers():\n",
    "    in_num = int(input(\"Enter the no of natural number: \"))\n",
    "    result = pow(((in_num * (in_num + 1))/2),2)\n",
    "    print(f'The cube sum of first {in_num} Natural Numbers is {result}')\n",
    "    \n",
    "cubeOfNaturalNumbers()"
   ]
  },
  {
   "cell_type": "code",
   "execution_count": null,
   "id": "0790e038",
   "metadata": {},
   "outputs": [],
   "source": []
  },
  {
   "cell_type": "code",
   "execution_count": null,
   "id": "f4c786f8",
   "metadata": {},
   "outputs": [],
   "source": []
  },
  {
   "cell_type": "code",
   "execution_count": null,
   "id": "9c89c0b4",
   "metadata": {},
   "outputs": [],
   "source": []
  }
 ],
 "metadata": {
  "kernelspec": {
   "display_name": "Python 3 (ipykernel)",
   "language": "python",
   "name": "python3"
  },
  "language_info": {
   "codemirror_mode": {
    "name": "ipython",
    "version": 3
   },
   "file_extension": ".py",
   "mimetype": "text/x-python",
   "name": "python",
   "nbconvert_exporter": "python",
   "pygments_lexer": "ipython3",
   "version": "3.9.12"
  }
 },
 "nbformat": 4,
 "nbformat_minor": 5
}
