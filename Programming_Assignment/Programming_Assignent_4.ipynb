{
 "cells": [
  {
   "cell_type": "markdown",
   "id": "51bbf433",
   "metadata": {},
   "source": [
    "**1. Write a python program to find the factorial of a number?**"
   ]
  },
  {
   "cell_type": "code",
   "execution_count": 1,
   "id": "16a8912b",
   "metadata": {},
   "outputs": [
    {
     "data": {
      "text/plain": [
       "5040"
      ]
     },
     "execution_count": 1,
     "metadata": {},
     "output_type": "execute_result"
    }
   ],
   "source": [
    "import math\n",
    "math.factorial(1000)\n",
    "\n",
    "def factorial(n):\n",
    "    fact = 1\n",
    "    for num in range(2, n + 1):\n",
    "        fact *= num\n",
    "    return fact\n",
    "\n",
    "def factorial(n):\n",
    "    if n == 0:\n",
    "        return 1\n",
    "    else:\n",
    "        return n * factorial(n - 1)\n",
    "    \n",
    "factorial(7)"
   ]
  },
  {
   "cell_type": "markdown",
   "id": "54e891d3",
   "metadata": {},
   "source": [
    "**2. Write a python program to display the multiplication table?**"
   ]
  },
  {
   "cell_type": "code",
   "execution_count": 8,
   "id": "ef3a5d1f",
   "metadata": {},
   "outputs": [
    {
     "name": "stdout",
     "output_type": "stream",
     "text": [
      "Please enter a positive integer between 1 and 25: 10\n",
      "  1   2   3   4   5   6   7   8   9  10\n",
      "  2   4   6   8  10  12  14  16  18  20\n",
      "  3   6   9  12  15  18  21  24  27  30\n",
      "  4   8  12  16  20  24  28  32  36  40\n",
      "  5  10  15  20  25  30  35  40  45  50\n",
      "  6  12  18  24  30  36  42  48  54  60\n",
      "  7  14  21  28  35  42  49  56  63  70\n",
      "  8  16  24  32  40  48  56  64  72  80\n",
      "  9  18  27  36  45  54  63  72  81  90\n",
      " 10  20  30  40  50  60  70  80  90 100\n"
     ]
    }
   ],
   "source": [
    "n=int(input('Please enter a positive integer between 1 and 25: '))\n",
    "for row in range(1, n + 1):\n",
    "    print(*(f\"{row*col:3}\" for col in range(1, n + 1)))"
   ]
  },
  {
   "cell_type": "markdown",
   "id": "98d88851",
   "metadata": {},
   "source": [
    "**3. Write a python program to print the fibonacci sequenece?**"
   ]
  },
  {
   "cell_type": "code",
   "execution_count": 9,
   "id": "8b14cef9",
   "metadata": {},
   "outputs": [
    {
     "name": "stdout",
     "output_type": "stream",
     "text": [
      "Fibonacci series - \n",
      "0 1 1 2 3 5 8 13 21 34 55 89 144 233 377 610 987 "
     ]
    }
   ],
   "source": [
    "def PrintFibonacci(length):\n",
    "    first = 0\n",
    "    second = 1\n",
    "    \n",
    "    print(first, second, end=\" \")\n",
    "    length -= 2\n",
    "    \n",
    "    while length > 0:\n",
    "        print(first + second, end=\" \")\n",
    "        temp = second\n",
    "        second = first + second\n",
    "        first = temp\n",
    "        length -= 1\n",
    "        \n",
    "if __name__ == \"__main__\":\n",
    "    print(\"Fibonacci series - \")\n",
    "    PrintFibonacci(17)\n",
    "    pass"
   ]
  },
  {
   "cell_type": "markdown",
   "id": "7c5cfe0b",
   "metadata": {},
   "source": [
    "**4. Write a python program to check Armstrong number?**"
   ]
  },
  {
   "cell_type": "code",
   "execution_count": 11,
   "id": "7b7182a2",
   "metadata": {},
   "outputs": [
    {
     "name": "stdout",
     "output_type": "stream",
     "text": [
      "Enter a number: 145\n",
      "145 is not an Armstrong number\n"
     ]
    }
   ],
   "source": [
    "num = int(input(\"Enter a number: \"))\n",
    "\n",
    "sum = 0\n",
    "\n",
    "temp = num\n",
    "while temp > 0:\n",
    "    digit = temp % 10\n",
    "    sum += digit ** 3\n",
    "    temp //= 10\n",
    "\n",
    "if num == sum:\n",
    "    print(num, \"is an Armstrong number\")\n",
    "else:\n",
    "    print(num,\"is not an Armstrong number\")"
   ]
  },
  {
   "cell_type": "markdown",
   "id": "558ae0a1",
   "metadata": {},
   "source": [
    "**5. Write a python program to find Armstrong number in an interval?**"
   ]
  },
  {
   "cell_type": "code",
   "execution_count": 12,
   "id": "2497cb35",
   "metadata": {},
   "outputs": [
    {
     "name": "stdout",
     "output_type": "stream",
     "text": [
      "Enter lower range: 370\n",
      "Enter upper range: 407\n",
      "370\n",
      "371\n",
      "407\n"
     ]
    }
   ],
   "source": [
    "lower = int(input(\"Enter lower range: \"))\n",
    "upper = int(input(\"Enter upper range: \"))\n",
    "\n",
    "for num in range(lower, upper + 1):\n",
    "    # initialize sum\n",
    "    sum = 0\n",
    "    \n",
    "    # find the sum of the cube of each digit\n",
    "    temp = num\n",
    "    while temp > 0:\n",
    "        digit = temp % 10\n",
    "        sum += digit ** 3\n",
    "        temp //= 10\n",
    "        \n",
    "    if num == sum:\n",
    "        print(num)"
   ]
  },
  {
   "cell_type": "markdown",
   "id": "20f2329f",
   "metadata": {},
   "source": [
    "**6. Write a python program to find the sum of natural numbers?**"
   ]
  },
  {
   "cell_type": "code",
   "execution_count": 14,
   "id": "1cdf3878",
   "metadata": {},
   "outputs": [
    {
     "name": "stdout",
     "output_type": "stream",
     "text": [
      "Enter the number: 10\n",
      "The sum is 55\n"
     ]
    }
   ],
   "source": [
    "num = int(input(\"Enter the number: \"))\n",
    "\n",
    "if num < 0: \n",
    "    print(\"Enter a positive number\")\n",
    "else:\n",
    "    sum = 0\n",
    "    # use while loop to iterate until zero\n",
    "    while(num > 0):\n",
    "        sum += num\n",
    "        num -= 1\n",
    "    print(\"The sum is\", sum)"
   ]
  },
  {
   "cell_type": "code",
   "execution_count": null,
   "id": "a8401333",
   "metadata": {},
   "outputs": [],
   "source": []
  }
 ],
 "metadata": {
  "kernelspec": {
   "display_name": "Python 3 (ipykernel)",
   "language": "python",
   "name": "python3"
  },
  "language_info": {
   "codemirror_mode": {
    "name": "ipython",
    "version": 3
   },
   "file_extension": ".py",
   "mimetype": "text/x-python",
   "name": "python",
   "nbconvert_exporter": "python",
   "pygments_lexer": "ipython3",
   "version": "3.9.12"
  }
 },
 "nbformat": 4,
 "nbformat_minor": 5
}
