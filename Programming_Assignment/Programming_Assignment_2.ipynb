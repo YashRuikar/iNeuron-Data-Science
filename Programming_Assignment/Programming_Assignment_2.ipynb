{
 "cells": [
  {
   "cell_type": "markdown",
   "id": "6cba13e6",
   "metadata": {},
   "source": [
    "**1. Write a python program to convert kilometers to miles?**"
   ]
  },
  {
   "cell_type": "code",
   "execution_count": 5,
   "id": "f762ebc9",
   "metadata": {},
   "outputs": [
    {
     "name": "stdout",
     "output_type": "stream",
     "text": [
      "Enter number of kilometers : 3.0\n",
      "3.0 km is equal to 1.863 miles\n"
     ]
    }
   ],
   "source": [
    "def KmToMiles():\n",
    "    kilometers = float(input(\"Enter number of kilometers : \"))\n",
    "    miles = kilometers * 0.621\n",
    "    print(\"{} km is equal to {} miles\".format(kilometers, miles))\n",
    "    \n",
    "    \n",
    "KmToMiles()    "
   ]
  },
  {
   "cell_type": "markdown",
   "id": "fa312867",
   "metadata": {},
   "source": [
    "**2. Write a python program to convert celsius to farenheit?**"
   ]
  },
  {
   "cell_type": "code",
   "execution_count": 4,
   "id": "aed066b5",
   "metadata": {},
   "outputs": [
    {
     "name": "stdout",
     "output_type": "stream",
     "text": [
      "Enter the temperature in celcius : 38.0\n",
      "38.0 C is equal to 100.4 F\n"
     ]
    }
   ],
   "source": [
    "def celTofar():\n",
    "    temperature = float(input(\"Enter the temperature in celcius : \"))\n",
    "    farenheit = (temperature * (9 / 5)) + 32\n",
    "    print(\"{} C is equal to {} F\".format(temperature, farenheit))\n",
    "    \n",
    "    \n",
    "celTofar()   "
   ]
  },
  {
   "cell_type": "markdown",
   "id": "88dce998",
   "metadata": {},
   "source": [
    "**3. Write a program to display calendar?**"
   ]
  },
  {
   "cell_type": "code",
   "execution_count": 6,
   "id": "eea6acc8",
   "metadata": {},
   "outputs": [
    {
     "name": "stdout",
     "output_type": "stream",
     "text": [
      "Enter calendar year: 2022\n",
      "                                  2022\n",
      "\n",
      "      January                   February                   March\n",
      "Mo Tu We Th Fr Sa Su      Mo Tu We Th Fr Sa Su      Mo Tu We Th Fr Sa Su\n",
      "                1  2          1  2  3  4  5  6          1  2  3  4  5  6\n",
      " 3  4  5  6  7  8  9       7  8  9 10 11 12 13       7  8  9 10 11 12 13\n",
      "10 11 12 13 14 15 16      14 15 16 17 18 19 20      14 15 16 17 18 19 20\n",
      "17 18 19 20 21 22 23      21 22 23 24 25 26 27      21 22 23 24 25 26 27\n",
      "24 25 26 27 28 29 30      28                        28 29 30 31\n",
      "31\n",
      "\n",
      "       April                      May                       June\n",
      "Mo Tu We Th Fr Sa Su      Mo Tu We Th Fr Sa Su      Mo Tu We Th Fr Sa Su\n",
      "             1  2  3                         1             1  2  3  4  5\n",
      " 4  5  6  7  8  9 10       2  3  4  5  6  7  8       6  7  8  9 10 11 12\n",
      "11 12 13 14 15 16 17       9 10 11 12 13 14 15      13 14 15 16 17 18 19\n",
      "18 19 20 21 22 23 24      16 17 18 19 20 21 22      20 21 22 23 24 25 26\n",
      "25 26 27 28 29 30         23 24 25 26 27 28 29      27 28 29 30\n",
      "                          30 31\n",
      "\n",
      "        July                     August                  September\n",
      "Mo Tu We Th Fr Sa Su      Mo Tu We Th Fr Sa Su      Mo Tu We Th Fr Sa Su\n",
      "             1  2  3       1  2  3  4  5  6  7                1  2  3  4\n",
      " 4  5  6  7  8  9 10       8  9 10 11 12 13 14       5  6  7  8  9 10 11\n",
      "11 12 13 14 15 16 17      15 16 17 18 19 20 21      12 13 14 15 16 17 18\n",
      "18 19 20 21 22 23 24      22 23 24 25 26 27 28      19 20 21 22 23 24 25\n",
      "25 26 27 28 29 30 31      29 30 31                  26 27 28 29 30\n",
      "\n",
      "      October                   November                  December\n",
      "Mo Tu We Th Fr Sa Su      Mo Tu We Th Fr Sa Su      Mo Tu We Th Fr Sa Su\n",
      "                1  2          1  2  3  4  5  6                1  2  3  4\n",
      " 3  4  5  6  7  8  9       7  8  9 10 11 12 13       5  6  7  8  9 10 11\n",
      "10 11 12 13 14 15 16      14 15 16 17 18 19 20      12 13 14 15 16 17 18\n",
      "17 18 19 20 21 22 23      21 22 23 24 25 26 27      19 20 21 22 23 24 25\n",
      "24 25 26 27 28 29 30      28 29 30                  26 27 28 29 30 31\n",
      "31\n",
      "\n"
     ]
    }
   ],
   "source": [
    "import calendar\n",
    "\n",
    "def showCalendar():\n",
    "    year = int(input(\"Enter calendar year: \"))\n",
    "    print(calendar.calendar(year))\n",
    "    \n",
    "showCalendar()"
   ]
  },
  {
   "cell_type": "markdown",
   "id": "198c49a3",
   "metadata": {},
   "source": [
    "**4. Write a python program to solve quadratic equation?**"
   ]
  },
  {
   "cell_type": "code",
   "execution_count": 1,
   "id": "e4b77a83",
   "metadata": {},
   "outputs": [
    {
     "name": "stdout",
     "output_type": "stream",
     "text": [
      "Enter value of a: 4\n",
      "Enter value of b: 6\n",
      "Enter value of c: 8\n",
      "Roots are Imaginary (-0.75-1.1989578808281798j) (-0.75+1.1989578808281798j)\n"
     ]
    }
   ],
   "source": [
    "import cmath\n",
    "import math\n",
    "\n",
    "def quadarticEquationRoots(a,b,c):\n",
    "    \n",
    "    discriminant = b * b - 4 * a * c\n",
    "    \n",
    "    if discriminant == 0:\n",
    "        r1 = -b / 2 * a\n",
    "        r2 = -b / 2 * a\n",
    "        print(\"Roots are Real\", r1, r2)\n",
    "        \n",
    "    elif discriminant > 0:\n",
    "        r1 = (-b - math.sqrt(discriminant)) / (2 * a)\n",
    "        r2 = (-b + math.sqrt(discriminant)) / (2 * a)\n",
    "        print(\"Roots are Real and different\", r1, r2)\n",
    "        \n",
    "    else:\n",
    "        r1 = (-b - cmath.sqrt(discriminant)) / (2 * a)\n",
    "        r2 = (-b + cmath.sqrt(discriminant)) / (2 * a)\n",
    "        print(\"Roots are Imaginary\", r1, r2)\n",
    "        \n",
    "        \n",
    "a = int(input(\"Enter value of a: \"))\n",
    "b = int(input(\"Enter value of b: \"))\n",
    "c = int(input(\"Enter value of c: \"))\n",
    "\n",
    "quadarticEquationRoots(a,b,c)"
   ]
  },
  {
   "cell_type": "markdown",
   "id": "e980d296",
   "metadata": {},
   "source": [
    "**5. Write a program to swap two varible without temp variable?**"
   ]
  },
  {
   "cell_type": "code",
   "execution_count": 9,
   "id": "2b4cdd16",
   "metadata": {},
   "outputs": [
    {
     "name": "stdout",
     "output_type": "stream",
     "text": [
      "Enter first number: 5\n",
      "Enter second number: 9\n",
      "\n",
      "Before swapping 5 , 9\n",
      "After swapping 9 , 5\n"
     ]
    }
   ],
   "source": [
    "num_1 = int(input(\"Enter first number: \"))\n",
    "num_2 = int(input(\"Enter second number: \"))\n",
    "\n",
    "def swapnumbers(num_1, num_2):\n",
    "    print(\"\\nBefore swapping\", num_1,\",\", num_2)\n",
    "    num_1 = num_1 + num_2\n",
    "    num_2 = num_1 - num_2\n",
    "    num_1 = num_1 - num_2\n",
    "    print(\"After swapping\", num_1,\",\", num_2)\n",
    "    \n",
    "swapnumbers(num_1, num_2)"
   ]
  },
  {
   "cell_type": "code",
   "execution_count": null,
   "id": "1afcd0b1",
   "metadata": {},
   "outputs": [],
   "source": []
  }
 ],
 "metadata": {
  "kernelspec": {
   "display_name": "Python 3 (ipykernel)",
   "language": "python",
   "name": "python3"
  },
  "language_info": {
   "codemirror_mode": {
    "name": "ipython",
    "version": 3
   },
   "file_extension": ".py",
   "mimetype": "text/x-python",
   "name": "python",
   "nbconvert_exporter": "python",
   "pygments_lexer": "ipython3",
   "version": "3.9.12"
  }
 },
 "nbformat": 4,
 "nbformat_minor": 5
}
