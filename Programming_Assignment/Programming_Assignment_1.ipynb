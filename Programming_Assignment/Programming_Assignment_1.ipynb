{
 "cells": [
  {
   "cell_type": "markdown",
   "id": "bdc92042",
   "metadata": {},
   "source": [
    "**1. Write a python program to print \"Hello Python\"?**"
   ]
  },
  {
   "cell_type": "code",
   "execution_count": 2,
   "id": "4b7a9066",
   "metadata": {},
   "outputs": [
    {
     "name": "stdout",
     "output_type": "stream",
     "text": [
      "Hello Python\n"
     ]
    }
   ],
   "source": [
    "a ='Hello Python'\n",
    "print(a)"
   ]
  },
  {
   "cell_type": "markdown",
   "id": "4bc4a949",
   "metadata": {},
   "source": [
    "**2. Write a python progarm to do arithmetical operations addition and division?**"
   ]
  },
  {
   "cell_type": "code",
   "execution_count": 5,
   "id": "d4b99500",
   "metadata": {},
   "outputs": [
    {
     "name": "stdout",
     "output_type": "stream",
     "text": [
      "2.0\n"
     ]
    }
   ],
   "source": [
    "def addition(a,b):     # Function is created\n",
    "    return a + b\n",
    "def division(a,b):\n",
    "    return a / b\n",
    "\n",
    "print(addition(2,6))\n",
    "print(division(6,3))"
   ]
  },
  {
   "cell_type": "markdown",
   "id": "2eafa4a2",
   "metadata": {},
   "source": [
    "**3. Write a python progarm to find the area of a triangle?**"
   ]
  },
  {
   "cell_type": "code",
   "execution_count": 4,
   "id": "df115390",
   "metadata": {},
   "outputs": [
    {
     "data": {
      "text/plain": [
       "6.0"
      ]
     },
     "execution_count": 4,
     "metadata": {},
     "output_type": "execute_result"
    }
   ],
   "source": [
    "def triangle_area(b,h):\n",
    "    area = (b * h) / 2\n",
    "    return area\n",
    "\n",
    "triangle_area(4,3)"
   ]
  },
  {
   "cell_type": "markdown",
   "id": "b31260cd",
   "metadata": {},
   "source": [
    "**4. Write a python program to swap two variable?**"
   ]
  },
  {
   "cell_type": "code",
   "execution_count": 6,
   "id": "06a08a39",
   "metadata": {},
   "outputs": [
    {
     "name": "stdout",
     "output_type": "stream",
     "text": [
      "(3, 2)\n"
     ]
    }
   ],
   "source": [
    "def swap(a,b):\n",
    "    temp = a\n",
    "    a = b\n",
    "    b = temp\n",
    "    return a, b\n",
    "\n",
    "print(swap(2,3))"
   ]
  },
  {
   "cell_type": "markdown",
   "id": "be3ac4c3",
   "metadata": {},
   "source": [
    "**5. Write a python program to generate a random number?**"
   ]
  },
  {
   "cell_type": "code",
   "execution_count": 8,
   "id": "44710f8c",
   "metadata": {},
   "outputs": [
    {
     "data": {
      "text/plain": [
       "16"
      ]
     },
     "execution_count": 8,
     "metadata": {},
     "output_type": "execute_result"
    }
   ],
   "source": [
    "import random    # Generating a random number\n",
    "\n",
    "def random_number(a,b):\n",
    "    return random.randint(a,b)\n",
    "\n",
    "random_number(0,110)"
   ]
  },
  {
   "cell_type": "code",
   "execution_count": null,
   "id": "840eaf93",
   "metadata": {},
   "outputs": [],
   "source": []
  }
 ],
 "metadata": {
  "kernelspec": {
   "display_name": "Python 3 (ipykernel)",
   "language": "python",
   "name": "python3"
  },
  "language_info": {
   "codemirror_mode": {
    "name": "ipython",
    "version": 3
   },
   "file_extension": ".py",
   "mimetype": "text/x-python",
   "name": "python",
   "nbconvert_exporter": "python",
   "pygments_lexer": "ipython3",
   "version": "3.9.12"
  }
 },
 "nbformat": 4,
 "nbformat_minor": 5
}
