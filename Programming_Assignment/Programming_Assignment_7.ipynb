{
 "cells": [
  {
   "cell_type": "markdown",
   "id": "be8fd20d",
   "metadata": {},
   "source": [
    "# Assignment 7"
   ]
  },
  {
   "cell_type": "markdown",
   "id": "c7cb752a",
   "metadata": {},
   "source": [
    "**1. Write a python program to find sum of Array ?**"
   ]
  },
  {
   "cell_type": "code",
   "execution_count": 4,
   "id": "973f16ef",
   "metadata": {},
   "outputs": [
    {
     "name": "stdout",
     "output_type": "stream",
     "text": [
      "Enter the Array: [1,2,3,4,5]\n",
      "The sum of [1, 2, 3, 4, 5] is 15\n"
     ]
    }
   ],
   "source": [
    "def sumOfArray():\n",
    "    in_arr = eval(input(\"Enter the Array: \"))\n",
    "    print(f'The sum of {in_arr} is {sum(in_arr)}')\n",
    "    \n",
    "sumOfArray()"
   ]
  },
  {
   "cell_type": "markdown",
   "id": "a45636f6",
   "metadata": {},
   "source": [
    "**2. Write a python program to find largest element in an Array?**"
   ]
  },
  {
   "cell_type": "code",
   "execution_count": 5,
   "id": "37741752",
   "metadata": {},
   "outputs": [
    {
     "name": "stdout",
     "output_type": "stream",
     "text": [
      "Enter the Array: [1,2,3,4,5]\n",
      "The Largest Element in [1, 2, 3, 4, 5] is 5\n"
     ]
    }
   ],
   "source": [
    "def largestElement():\n",
    "    in_arr = eval(input(\"Enter the Array: \"))\n",
    "    print(f'The Largest Element in {in_arr} is {sorted(in_arr, reverse = True)[0]}')\n",
    "    \n",
    "largestElement()"
   ]
  },
  {
   "cell_type": "markdown",
   "id": "51d16035",
   "metadata": {},
   "source": [
    "**3. Write a python program for Array rotation?**"
   ]
  },
  {
   "cell_type": "code",
   "execution_count": 2,
   "id": "d617a224",
   "metadata": {},
   "outputs": [
    {
     "name": "stdout",
     "output_type": "stream",
     "text": [
      "Enter the Array: 4,2,4,5,6,1\n",
      "The Reverse of Array (4, 2, 4, 5, 6, 1) is (1, 6, 5, 4, 2, 4)\n"
     ]
    }
   ],
   "source": [
    "def reverseOfArray():\n",
    "    in_arr = eval(input(\"Enter the Array: \"))\n",
    "    print(f'The Reverse of Array {in_arr} is {in_arr[::-1]}')\n",
    "    \n",
    "reverseOfArray()"
   ]
  },
  {
   "cell_type": "markdown",
   "id": "3a71880d",
   "metadata": {},
   "source": [
    "**4. Write a python program to split the array and add the first part to the end?**"
   ]
  },
  {
   "cell_type": "code",
   "execution_count": 1,
   "id": "b2f31caf",
   "metadata": {},
   "outputs": [
    {
     "name": "stdout",
     "output_type": "stream",
     "text": [
      "Enter the Array: 4,2,4,5,6,1\n",
      "The sum of first and last elements of Array (4, 2, 4, 5, 6, 1) is 5\n"
     ]
    }
   ],
   "source": [
    "def sumOfSplits():\n",
    "    in_arr = eval(input(\"Enter the Array: \"))\n",
    "    print(f'The sum of first and last elements of Array {in_arr} is {in_arr[0] + in_arr[-1]}')\n",
    "    \n",
    "sumOfSplits()"
   ]
  },
  {
   "cell_type": "markdown",
   "id": "3d68a5d9",
   "metadata": {},
   "source": [
    "**5. Write a python program to check if given array is Monotonic?**"
   ]
  },
  {
   "cell_type": "code",
   "execution_count": 1,
   "id": "c885e143",
   "metadata": {},
   "outputs": [
    {
     "name": "stdout",
     "output_type": "stream",
     "text": [
      "Enter the Array: [1,2,3,4,5]\n",
      "Array [1, 2, 3, 4, 5] is Monotonic\n",
      "Enter the Array: [4,2,4,5,6,1]\n",
      "Array [4, 2, 4, 5, 6, 1] is not Monotonic\n"
     ]
    }
   ],
   "source": [
    "def checkMontonic():\n",
    "    in_arr = eval(input(\"Enter the Array: \"))\n",
    "    if(all(in_arr[i]<=in_arr[i+1] for i in range(len(in_arr)-1)) or all(in_arr[i]>=in_arr[i+1] for i in range(len(in_arr)-1))):\n",
    "        print(f'Array {in_arr} is Monotonic')\n",
    "    else:\n",
    "        print(f'Array {in_arr} is not Monotonic')\n",
    "        \n",
    "checkMontonic()\n",
    "checkMontonic()\n"
   ]
  },
  {
   "cell_type": "code",
   "execution_count": null,
   "id": "ac791474",
   "metadata": {},
   "outputs": [],
   "source": []
  }
 ],
 "metadata": {
  "kernelspec": {
   "display_name": "Python 3 (ipykernel)",
   "language": "python",
   "name": "python3"
  },
  "language_info": {
   "codemirror_mode": {
    "name": "ipython",
    "version": 3
   },
   "file_extension": ".py",
   "mimetype": "text/x-python",
   "name": "python",
   "nbconvert_exporter": "python",
   "pygments_lexer": "ipython3",
   "version": "3.9.12"
  }
 },
 "nbformat": 4,
 "nbformat_minor": 5
}
