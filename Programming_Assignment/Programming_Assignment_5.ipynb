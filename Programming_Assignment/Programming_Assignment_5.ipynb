{
 "cells": [
  {
   "cell_type": "markdown",
   "id": "f406f05f",
   "metadata": {},
   "source": [
    "# Assignment 5"
   ]
  },
  {
   "cell_type": "markdown",
   "id": "db14f55e",
   "metadata": {},
   "source": [
    "**1. Write a python program to find LCM?**"
   ]
  },
  {
   "cell_type": "code",
   "execution_count": 1,
   "id": "672dea0f",
   "metadata": {},
   "outputs": [
    {
     "name": "stdout",
     "output_type": "stream",
     "text": [
      "The LCM of 3, 6 is 6\n",
      "The LCM of 5, 2 is 10\n",
      "The LCM of 5, 100 is 100\n"
     ]
    }
   ],
   "source": [
    "def findTheLcm(x, y):\n",
    "    if x > y:\n",
    "        greater = x\n",
    "    else:\n",
    "        greater = y\n",
    "    while True:\n",
    "        if((greater % x ==0) and (greater % y == 0)):\n",
    "            LCM = greater\n",
    "            break\n",
    "        else:\n",
    "            greater +=1\n",
    "    print(f'The LCM of {x}, {y} is {LCM}')\n",
    "    \n",
    "    \n",
    "findTheLcm(3,6)\n",
    "findTheLcm(5,2)\n",
    "findTheLcm(5,100)"
   ]
  },
  {
   "cell_type": "markdown",
   "id": "593c7eee",
   "metadata": {},
   "source": [
    "**2. Write a python program to find HCF?**"
   ]
  },
  {
   "cell_type": "code",
   "execution_count": 2,
   "id": "9f3a31dc",
   "metadata": {},
   "outputs": [
    {
     "name": "stdout",
     "output_type": "stream",
     "text": [
      "The HCF of 6, 12 is 6\n",
      "The HCF of 2, 3 is 1\n",
      "The HCF of 10, 23 is 1\n"
     ]
    }
   ],
   "source": [
    "def findTheHcf(a, b):\n",
    "    if a > b:\n",
    "        smaller = b\n",
    "    else:\n",
    "        smaller = a\n",
    "    for ele in range(1, smaller + 1):\n",
    "        if((a % ele == 0) and (b % ele == 0)):\n",
    "            HCF = ele\n",
    "    print(f'The HCF of {a}, {b} is {HCF}')\n",
    "    \n",
    "    \n",
    "findTheHcf(6,12)\n",
    "findTheHcf(2,3)\n",
    "findTheHcf(10,23)"
   ]
  },
  {
   "cell_type": "markdown",
   "id": "6aa1a0d9",
   "metadata": {},
   "source": [
    "**3. Write a python program to convert Decimal to Binary, Octal and Hexadecimal?**"
   ]
  },
  {
   "cell_type": "code",
   "execution_count": 3,
   "id": "273b03ee",
   "metadata": {},
   "outputs": [
    {
     "name": "stdout",
     "output_type": "stream",
     "text": [
      "Enter a number: 55252555\n",
      "Binary Number -> 0b11010010110001011001001011\n",
      "Octal Number -> 0o322613113\n",
      "Hexadecimal Number -> 0x34b164b\n"
     ]
    }
   ],
   "source": [
    "def DecimalToOther():\n",
    "    num = int(input(\"Enter a number: \"))\n",
    "    print(f'Binary Number -> {bin(num)}')\n",
    "    print(f'Octal Number -> {oct(num)}')\n",
    "    print(f'Hexadecimal Number -> {hex(num)}')\n",
    "    \n",
    "DecimalToOther()"
   ]
  },
  {
   "cell_type": "markdown",
   "id": "db279afe",
   "metadata": {},
   "source": [
    "**4. Write a python program to find the ASCII value of a character?**"
   ]
  },
  {
   "cell_type": "code",
   "execution_count": 4,
   "id": "0d787762",
   "metadata": {},
   "outputs": [
    {
     "name": "stdout",
     "output_type": "stream",
     "text": [
      "Enter a character: @\n",
      "Ascii character of @ is 64\n"
     ]
    }
   ],
   "source": [
    "def charToAscii():\n",
    "    char = input(\"Enter a character: \")\n",
    "    if len(char) > 1:\n",
    "        print(\"Please Enter a single character\")\n",
    "    else:\n",
    "        print(f'Ascii character of {char} is {ord(char)}')\n",
    "        \n",
    "charToAscii()"
   ]
  },
  {
   "cell_type": "markdown",
   "id": "acad948d",
   "metadata": {},
   "source": [
    "**5. Write a python program to make a simple calculator with 4 BASIC MATHEMATICAL operations?**"
   ]
  },
  {
   "cell_type": "code",
   "execution_count": 1,
   "id": "96218f88",
   "metadata": {},
   "outputs": [
    {
     "name": "stdout",
     "output_type": "stream",
     "text": [
      "Select a Arithmetic Operationd:         \n",
      "1.Addititon(+)        \n",
      "2.Subtraction(-)        \n",
      "3.Multiplication(*)        \n",
      "4.Division(/)        \n",
      "5.Stop(0)\n",
      "\n",
      "Enter a arithemetic operations -> +\n",
      "\n",
      "Enter 1st number: 10\n",
      "Enter 2nd number: 20\n",
      "10+20 = 30\n",
      "\n",
      "Enter a arithemetic operations -> -\n",
      "\n",
      "Enter 1st number: 10\n",
      "Enter 2nd number: 20\n",
      "10-20 = -10\n",
      "\n",
      "Enter a arithemetic operations -> *\n",
      "\n",
      "Enter 1st number: 10\n",
      "Enter 2nd number: 20\n",
      "10*20 = 200\n",
      "\n",
      "Enter a arithemetic operations -> /\n",
      "\n",
      "Enter 1st number: 10\n",
      "Enter 2nd number: 20\n",
      "10/20 = 0.5\n",
      "\n",
      "Enter a arithemetic operations -> 0\n",
      "Program stopped successfully\n"
     ]
    }
   ],
   "source": [
    "import operator\n",
    "\n",
    "ops = {\"+\": operator.add, \"-\": operator.sub, \"*\": operator.mul, \"/\": operator.truediv}\n",
    "\n",
    "print('Select a Arithmetic Operationd: \\\n",
    "        \\n1.Addititon(+)\\\n",
    "        \\n2.Subtraction(-)\\\n",
    "        \\n3.Multiplication(*)\\\n",
    "        \\n4.Division(/)\\\n",
    "        \\n5.Stop(0)\\n')\n",
    "\n",
    "while True:\n",
    "    operator = input(\"Enter a arithemetic operations -> \")\n",
    "    if operator == '0':\n",
    "        print(\"Program stopped successfully\")\n",
    "        break\n",
    "    elif operator not in ['+', '-', '*', '/']:\n",
    "        print(\"Please enter a valid operator\")\n",
    "    else:\n",
    "        num_1 = int(input('\\nEnter 1st number: '))\n",
    "        num_2 = int(input(\"Enter 2nd number: \"))\n",
    "        print(f'{num_1}{operator}{num_2} = {ops[operator](num_1, num_2)}\\n')"
   ]
  },
  {
   "cell_type": "code",
   "execution_count": null,
   "id": "8607a14d",
   "metadata": {},
   "outputs": [],
   "source": []
  }
 ],
 "metadata": {
  "kernelspec": {
   "display_name": "Python 3 (ipykernel)",
   "language": "python",
   "name": "python3"
  },
  "language_info": {
   "codemirror_mode": {
    "name": "ipython",
    "version": 3
   },
   "file_extension": ".py",
   "mimetype": "text/x-python",
   "name": "python",
   "nbconvert_exporter": "python",
   "pygments_lexer": "ipython3",
   "version": "3.9.12"
  }
 },
 "nbformat": 4,
 "nbformat_minor": 5
}
